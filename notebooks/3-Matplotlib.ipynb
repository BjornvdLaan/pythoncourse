{
 "cells": [
  {
   "cell_type": "markdown",
   "metadata": {},
   "source": [
    "# Python beginners course - Level 3 - Matplotlib\n",
    "In the previous notebook, we have seen how we can represent data in Dataframes and some basic functionality for exploring the data. This notebook will build on this exploration by introducing visualisation techniques provided by the ```Matplotlib``` package, which is the back-bone of visualisation in Python.\n",
    "\n",
    "This tutorial consists of the following parts:\n",
    "- What is Matplotlib\n",
    "- Line plots\n",
    "- Histograms\n",
    "- Box plots\n",
    "- Scatter plots\n",
    "\n",
    "## 1. What is Matplotlib\n",
    "When working with any kind of data, it is often hard to get a good understanding of the data just by looking at the numbers. Especially when the data is becoming large, it is more convenient to create visualisations which help in understanding the data. This is where `Matplotlib` comes in.\n",
    "\n",
    "`Matplotlib` is the most popular visualisation library in Python. It is a Python 2D plotting library which produces publication quality figures in a variety of formats, and is even able to create interactive figures. Matplotlib tries to make easy things easy and hard things possible. You can generate plots, histograms, power spectra, bar charts, errorcharts, scatterplots, and many more with just a few lines of code. This notebook will explore the core functionality ```Matplotlib``` has to offer."
   ]
  },
  {
   "cell_type": "code",
   "execution_count": null,
   "metadata": {},
   "outputs": [],
   "source": [
    "# Before we start we have to import the packages that we will be using\n",
    "import numpy as np\n",
    "import pandas as pd\n",
    "import matplotlib.pyplot as plt"
   ]
  },
  {
   "cell_type": "markdown",
   "metadata": {},
   "source": [
    "## 2. Line plot\n",
    "\n",
    "Line plots are one of the most frequently used charts in the world.\n",
    "\n",
    "A line plot is a type of chart which displays information as a series of data points connected by straight line segments. It is a basic type of chart common in many fields. It is similar to a scatter plot except that the measurement points are ordered (typically by their x-axis value) and joined with straight line segments. Line plots are often used to visualize a trend in data over intervals of time – a time series – thus the line is often drawn chronologically. \n",
    "\n",
    "A typical line plot is shown below.\n",
    "\n",
    "![line plot](../assets/linechart.png)\n",
    "\n",
    "In the previous section we have seen how we can use the `Numpy` library to create arrays. We will now use this knowledge to make some nice looking line plots.\n",
    "\n",
    "To start, we will attempt to plot a Sine wave which is defined by the function $y = sin(x)$ for values $x$ between $0$ and $6$."
   ]
  },
  {
   "cell_type": "code",
   "execution_count": null,
   "metadata": {},
   "outputs": [],
   "source": [
    "# Create an array of 5 evenly spaced values between 0 and 6\n",
    "x = np.linspace(0, 6, 5)\n",
    "\n",
    "# For each of these values calculate the Sine\n",
    "y = np.sin(x)\n",
    "\n",
    "# Plot the Sine wave using matplotlib\n",
    "plt.plot(x, y, marker='*')\n",
    "plt.show()"
   ]
  },
  {
   "cell_type": "markdown",
   "metadata": {},
   "source": [
    "See how easy it is? With just one call to the ```plt.plot``` function we created a decently looking chart! "
   ]
  },
  {
   "cell_type": "markdown",
   "metadata": {},
   "source": [
    "## Exercise 1: Create and plot a Sine wave with 100 markers.\n",
    "The line plot above consists of 5 markers (stars) which are connected by straight lines. This is because we only have 5 data points. If we want to visualize a more smooth Sine wave, we'll need more data points. To solve this, you will now create the same Sine wave, only now with more markers. \n",
    "\n",
    "Replace the ```___``` in the following cells to complete the exercise."
   ]
  },
  {
   "cell_type": "code",
   "execution_count": null,
   "metadata": {},
   "outputs": [],
   "source": [
    "# Create a Sine wave with 100 markers\n",
    "x_new = np.linspace(0, 6, ___)\n",
    "y_new = np.sin(___)\n",
    "\n",
    "# Plot the new Sine wave\n",
    "plt.plot(x, y, marker='*')\n",
    "plt.plot(___, ___)\n",
    "plt.show()"
   ]
  },
  {
   "cell_type": "markdown",
   "metadata": {},
   "source": [
    "We can see that the line plot with 100 markers looks much nicer, and actually looks like a Sine wave now.\n",
    "\n",
    "In `Matplotlib` there are many options to customize your plots. In the figure above, we already see two of those (do you know which ones?).\n",
    "\n",
    "## Exercise 2: Create and plot other functions\n",
    "Apply the skills we learned to plot a Sine wave to plot the following functions\n",
    "\n",
    "1. $y = x$\n",
    "2. $y = 2x$\n",
    "3. $y = \\sqrt x$\n",
    "4. $y = x^2$ \n",
    "\n",
    "in the same figure.\n",
    "\n",
    "Replace the ```___``` in the following cell to complete the exercise."
   ]
  },
  {
   "cell_type": "code",
   "execution_count": null,
   "metadata": {},
   "outputs": [],
   "source": [
    "# Create the horizontal axis values using NumPy\n",
    "x = np.linspace(0, 5, 20)\n",
    "\n",
    "# Create the vertical axis values of the 4 plots\n",
    "y1 = ___\n",
    "y2 = ___\n",
    "y3 = ___\n",
    "y4 = ___\n",
    "\n",
    "# Create figures for all 4 plots\n",
    "plt.plot(x, ___)\n",
    "plt.plot(x, ___)\n",
    "plt.plot(x, ___)\n",
    "plt.plot(x, ___)\n",
    "\n",
    "# Display the figures\n",
    "plt.show()"
   ]
  },
  {
   "cell_type": "markdown",
   "metadata": {},
   "source": [
    "As mentioned, `Matplotlib` allows for extensive customization of your plots. Some settings that can be customized are:\n",
    "- Line color\n",
    "- Line style (dashed, dotted, ...)\n",
    "- Line width\n",
    "- Marker style (star, cross, ...)\n",
    "- Marker color\n",
    "- Marker size\n",
    "- Axis labels\n",
    "- Title\n",
    "- Legend\n",
    "- ...\n",
    "\n",
    "An example of a plot which contains some of these settings is shown below."
   ]
  },
  {
   "cell_type": "code",
   "execution_count": null,
   "metadata": {},
   "outputs": [],
   "source": [
    "# Create the horizontal axis values using NumPy\n",
    "x = np.linspace(0, 2*np.pi, 10)\n",
    "\n",
    "# Calculate the Sine of all x-values\n",
    "y = np.sin(x)\n",
    "\n",
    "# Plot the values of y against x using Matplotlib\n",
    "plt.plot(x,\n",
    "         y, \n",
    "         color='blue',       # line color: blue\n",
    "         linestyle='dotted', # line style: dotted\n",
    "         linewidth=5,        # line width: 5\n",
    "         marker='o',         # marker: circles\n",
    "         markersize=12,      # marker size: 12\n",
    "         markerfacecolor='r' # marker color: red   \n",
    "        )\n",
    "\n",
    "# Show the figure\n",
    "plt.show()"
   ]
  },
  {
   "cell_type": "markdown",
   "metadata": {},
   "source": [
    "## Exercise 3: Play around with the figure settings above such that:\n",
    "- The line color is green\n",
    "- There are no markers\n",
    "- The line style is dashed\n",
    "- The line width is thinner"
   ]
  },
  {
   "cell_type": "markdown",
   "metadata": {},
   "source": [
    "A good figure is one where the reader is presented with sufficient information such that it is clear what is being shown. A figure without any labels or a title is meaningless for the unknowing reader, as it is often impossible to decipher what the values represent. \n",
    "\n",
    "Therefore, we will show how to add axis lables, a title and a legend to a `Matplotlib` figure. We will use the previous figure as illustration."
   ]
  },
  {
   "cell_type": "code",
   "execution_count": null,
   "metadata": {},
   "outputs": [],
   "source": [
    "# Create the horizontal axis values using NumPy\n",
    "x = np.linspace(0, 2*np.pi, 10)\n",
    "\n",
    "# Calculate the Sine of all x-values\n",
    "y = np.sin(x)\n",
    "\n",
    "# Plot the values of y against x using Matplotlib\n",
    "plt.plot(x,\n",
    "         y, \n",
    "         color='blue',       # line color: blue\n",
    "         linestyle='dotted', # line style: dotted\n",
    "         linewidth=5,        # line width: 5\n",
    "         marker='o',         # marker: circles\n",
    "         markersize=12,      # marker size: 12\n",
    "         markerfacecolor='r' # marker color: red   \n",
    "        )\n",
    "\n",
    "# Add the axis labels\n",
    "plt.xlabel('x values')        # horizontal axis label: 'x values'\n",
    "plt.ylabel('y values')        # vertical axis label: 'y values'\n",
    "\n",
    "# Add a title\n",
    "plt.title('Illustration of Matplotlib settings')        # plot title: 'Sine wave'\n",
    "\n",
    "# Add a legend\n",
    "plt.legend(['Sine wave'])     # add a legend to the figure\n",
    "\n",
    "# Show the figure\n",
    "plt.show()"
   ]
  },
  {
   "cell_type": "markdown",
   "metadata": {},
   "source": [
    "## 3. Histograms\n",
    "A histogram is a plot that lets you discover the underlying frequency distribution (shape) of a set of continuous data. This allows the inspection of the data for its underlying distribution (e.g., normal distribution), outliers, skewness, etc.\n",
    "\n",
    "Lets explore histograms using the boston dataset from the previous notebook.\n",
    "Before we dive it, we'll read the data again and give a quick recap of the dataset. "
   ]
  },
  {
   "cell_type": "code",
   "execution_count": null,
   "metadata": {},
   "outputs": [],
   "source": [
    "#Let's read the data in again\n",
    "data = pd.read_csv('../data/boston_dataset.csv')\n",
    "\n",
    "data.head(3)"
   ]
  },
  {
   "cell_type": "markdown",
   "metadata": {},
   "source": [
    "Remember that the columns have the following meaning (**you don't have to remember this**):\n",
    "\n",
    "| Column        | Represents                                      |\n",
    "| :------------- |------------------------------------------------ | \n",
    "| CRIM | per capita crime rate by town |\n",
    "| ZN | proportion of residential land zoned for lots over 25,000 sq.ft.|\n",
    "| INDUS | proportion of non-retail business acres per town.|\n",
    "| CHAS | Charles River dummy variable (1 if tract bounds river; 0 otherwise)|\n",
    "| NOX | nitric oxides concentration (parts per 10 million)|\n",
    "| RM | average number of rooms per dwelling|\n",
    "| AGE | proportion of owner-occupied units built prior to 1940|\n",
    "| DIS | weighted distances to five Boston employment centres|\n",
    "| RAD | index of accessibility to radial highways|\n",
    "| TAX | full-value property-tax rate per 10,000 dollar|\n",
    "| PTRATIO | pupil-teacher ratio by town|\n",
    "| B | 1000(Bk - 0.63)^2 where Bk is the proportion of blacks by town|\n",
    "| LSTAT | percentage lower status of the population|\n",
    "| MEDV | Median value of owner-occupied homes (1 = 1000 dollar)|\n",
    "\n",
    "An example of a histogram of the `LSTAT` feature can be shown using the following code:"
   ]
  },
  {
   "cell_type": "code",
   "execution_count": null,
   "metadata": {},
   "outputs": [],
   "source": [
    "# Extract the LSTAT column as a Pandas Series\n",
    "LSTAT_col = data['LSTAT']\n",
    "\n",
    "# Plot the histogram using the Series, giving it a label 'LSTAT' and defining how many bars (bins) we want to see\n",
    "plt.hist(LSTAT_col, label='LSTAT', bins=70)\n",
    "plt.xlabel('Value')        # Set the horizontal axis label to 'Value'\n",
    "plt.ylabel('Frequency')    # Set the vertical axis label to 'Frequency'\n",
    "plt.legend()               # Make the legend visible\n",
    "plt.show()                 # Show the histogram"
   ]
  },
  {
   "cell_type": "markdown",
   "metadata": {},
   "source": [
    "## Exercise 4: Create histograms for the RM and MEDV columns of our dataset.\n",
    "Replace the ```___``` in the following cell to complete the exercise."
   ]
  },
  {
   "cell_type": "code",
   "execution_count": null,
   "metadata": {},
   "outputs": [],
   "source": [
    "# Histogram for the feature RM\n",
    "RM_col = ___\n",
    "\n",
    "plt.hist(RM_col, label=___, bins=70)\n",
    "plt.xlabel('Value')        # Set the horizontal axis label to 'Value'\n",
    "plt.ylabel('Frequency')    # Set the vertical axis label to 'Frequency'\n",
    "plt.legend()               # Make the legend visible\n",
    "plt.show()                 # Show the histogram\n",
    "\n",
    "# Histogram for the target MEDV\n",
    "MEDV_col = ___\n",
    "\n",
    "plt.hist(MEDV_col, label=___, bins=70)\n",
    "plt.xlabel('Value')        # Set the horizontal axis label to 'Value'\n",
    "plt.ylabel('Frequency')    # Set the vertical axis label to 'Frequency'\n",
    "plt.legend()               # Make the legend visible\n",
    "plt.show()                 # Show the histogram"
   ]
  },
  {
   "cell_type": "markdown",
   "metadata": {},
   "source": [
    "As we see in the figure of the exercise above, plotting multiple figures using `Matplotlib` will automatically put them underneath each other. However, sometimes we might want to arrange figures side-by-side. This is useful if we have many figures that we want to put into a report. Luckily, Matplotlib makes this possible. \n",
    "\n",
    "Consider a scenario where we want to combine multiple figures in a grid of 2 rows of 3 figures. To achieve this using ```Matplotlib``` we need to create a so-called ```subplot```, which is basically a grid where each field can be filled with a figure of choice. The grid can have any size we want.\n",
    "\n",
    "To illustrate how to create such a subplot grid, consider the following code:"
   ]
  },
  {
   "cell_type": "code",
   "execution_count": null,
   "metadata": {},
   "outputs": [],
   "source": [
    "# Step 1: Set the figure size to 8 by 8 inches and create a grid of 2 rows and 3 columns\n",
    "plt.subplots(figsize=[8,8], nrows=2, ncols=3) \n",
    "\n",
    "# Step 2: Set the position of this plot in the grid. \n",
    "# Below we indicate that our figure should placed in position 1 (counting left to right and top to bottom)\n",
    "plt.subplot(2, 3, 1)\n",
    "\n",
    "# Step 3: Plot a histogram that we want to show\n",
    "plt.hist(data['LSTAT'], label='LSTAT', bins=70)         \n",
    "\n",
    "#Step 4: Show the figure\n",
    "plt.show()"
   ]
  },
  {
   "cell_type": "markdown",
   "metadata": {},
   "source": [
    "Above we created a figure of 8 by 8 inches that contains a grid of 2 rows and 3 columns. Then, we put a histogram in position 1 (counting from left to right and top to bottom).\n",
    "\n",
    "We can add more plots to free positions to fill up our grid. To get a more intuitive idea of what the grid looks like that is generated by ```subplot```, such grid is visualized in the figure below.\n",
    "![](../assets/subplots.png)\n",
    "\n",
    "As can be seen, the grid positions are numbered as expected, starting with 1 in the top-left corner, and increasing horizontally.\n",
    "With the code above, you _only_ fill the figure at location (2,3,1), so you still need to fill the other locations using `plt.subplot(2,3,2)`, ..., `plt.subplot(2,3,6)`. Let's now try to do this ourselves."
   ]
  },
  {
   "cell_type": "markdown",
   "metadata": {},
   "source": [
    "## Exercise 5: Create a subplot figure of the histograms of `LSTAT`, `RM` and `MEDV`. The subplot should have 3 rows and 1 columns.\n",
    "Replace the ```___``` in the following cell to complete the exercise."
   ]
  },
  {
   "cell_type": "code",
   "execution_count": null,
   "metadata": {},
   "outputs": [],
   "source": [
    "plt.subplots(figsize=[8,8], nrows=___, ncols=___) # Set the figure size\n",
    "\n",
    "plt.subplot(___) # Fill the 1st spot in our subplot of 3 rows and 1 column\n",
    "plt.hist(___, label=___, bins=70)\n",
    "plt.legend()\n",
    "\n",
    "plt.subplot(___) # Fill the 2nd spot in our subplot of 3 rows and 1 column\n",
    "plt.hist(___, label=___, bins=70)\n",
    "plt.legend()\n",
    "\n",
    "plt.subplot(___) # Fill the 3rd spot in our subplot of 3 rows and 1 column\n",
    "plt.hist(___, label=___, bins=70)\n",
    "plt.legend()\n",
    "\n",
    "plt.show()"
   ]
  },
  {
   "cell_type": "markdown",
   "metadata": {},
   "source": [
    "## Exercise 6: Adjust the code above such that:\n",
    "1. The top histogram is blue\n",
    "2. The middle histogram is red\n",
    "3. The bottom histogram is green\n",
    "\n",
    "**Hint:** blue: 'b', red: 'r', green: 'g'"
   ]
  },
  {
   "cell_type": "code",
   "execution_count": null,
   "metadata": {},
   "outputs": [],
   "source": [
    "# Copy the code from exercise 5 here and edit it"
   ]
  },
  {
   "cell_type": "markdown",
   "metadata": {},
   "source": [
    "## Exercise 7: Adjust the code above such that:\n",
    "1. The histograms are now side-by-side each other instead of above each other.\n",
    "2. Add a title to each of the histograms.\n",
    "3. Add labels to the axes."
   ]
  },
  {
   "cell_type": "code",
   "execution_count": null,
   "metadata": {},
   "outputs": [],
   "source": [
    "# Copy the code from exercise 6 here and edit it"
   ]
  },
  {
   "cell_type": "markdown",
   "metadata": {},
   "source": [
    "## (Optional) Challenge 1: Make sure the histograms:\n",
    "- share the y-axis if the figures are side-by-side in the subplot\n",
    "- share the x-asis if the figures are above each other in the subplot\n",
    "\n",
    "**Hint:** Google and StackOverflow are your friends."
   ]
  },
  {
   "cell_type": "code",
   "execution_count": null,
   "metadata": {},
   "outputs": [],
   "source": [
    "# Copy the code from exercise 7 here and edit it"
   ]
  },
  {
   "cell_type": "markdown",
   "metadata": {},
   "source": [
    "## 4. Boxplots\n",
    "\n",
    "Do you remember the `.describe()` function from earlier notebooks? It was used to show us statistics of Dataframe columns such as mean, standard deviation and median. Let's recall what the output of ```describe()```  looks like:"
   ]
  },
  {
   "cell_type": "code",
   "execution_count": null,
   "metadata": {},
   "outputs": [],
   "source": [
    "# Calculate the basic statistics of the LSTAT, RM and MEDV columns\n",
    "data[['LSTAT']].describe()"
   ]
  },
  {
   "cell_type": "markdown",
   "metadata": {},
   "source": [
    "When looking at these statistics it is often hard to get a feeling for the actual distribution of a dataset. Therefore, there also exists a graphical representation of the information calculated with `.describe()`, which is called a **boxplot**. \n",
    "\n",
    "A boxplot is a standardized way of displaying the distribution of data based on a five number summary:\n",
    "\n",
    "1. maximum (excluding outliers)\n",
    "2. upper quartile (Q3)\n",
    "3. median\n",
    "4. lower quartile (Q1)\n",
    "5. minimum (excluding outliers)\n",
    "\n",
    "It can tell you about your outliers and what their values are. It can also tell you if your data is symmetrical, how tightly your data is grouped, and if and how your data is skewed. An illustrative example of a boxplot is shown in the figure below.\n",
    "\n",
    "![](../assets/box-plot-explained.gif)\n",
    "\n",
    "Using ```Matplotlib``` again, it is relatively easy to make your data. Before making the boxplot of `LSTAT`, let's first remind ourselves what the statistics of this column were:"
   ]
  },
  {
   "cell_type": "markdown",
   "metadata": {},
   "source": [
    "The corresponding boxplot to this data column can be made using the following code:"
   ]
  },
  {
   "cell_type": "code",
   "execution_count": null,
   "metadata": {},
   "outputs": [],
   "source": [
    "# Extract the LSTAT column as a Pandas Series\n",
    "LSTAT_col = data['LSTAT']\n",
    "\n",
    "# Create the boxplot using our Series and adding a label\n",
    "plt.boxplot(LSTAT_col, labels=['LSTAT'])\n",
    "\n",
    "# Show the boxplot\n",
    "plt.show()"
   ]
  },
  {
   "cell_type": "markdown",
   "metadata": {},
   "source": [
    "As you can see from the boxplot, the minimum, lower quartile (25%), median (50%), upper quartile (75%) and maximum are visualized, as were calculated using `.describe()`. \n",
    "\n",
    "Looking at the boxplot, it is easy to see that the data is not symmetrically distributed which is less obvious when looking at the results of `.describe()`."
   ]
  },
  {
   "cell_type": "markdown",
   "metadata": {},
   "source": [
    "## 5. Scatter plots\n",
    "A scatter plot is a type of plot to display values for typically two variables for a set of data. The data is displayed as a collection of points, each having the value of one variable determining the position on the horizontal axis and the value of the other variable determining the position on the vertical axis.\n",
    "\n",
    "A scatter plot can be used either when you want to investigate if there exists a relation between two variables, or to see that there is no relation between the variables.\n",
    "\n",
    "Consider a scenario where we suspect that there is a relationship between two variables is in our dataset. The column `RM` represents the average number of rooms per dwelling. It is to be expected that this variable has some positive relationship with the price of the dwelling, `MEDV`. To confirm this assumption, we will plot a scatter plot of these two variables."
   ]
  },
  {
   "cell_type": "code",
   "execution_count": null,
   "metadata": {},
   "outputs": [],
   "source": [
    "# Extract the data as Pandas Series\n",
    "RM_col = data['RM']\n",
    "MEDV_col = data['MEDV']\n",
    "\n",
    "# Create a scatter plot using the Series\n",
    "plt.scatter(x=RM_col, y=MEDV_col)\n",
    "\n",
    "# Set the axes labels\n",
    "plt.xlabel('RM')\n",
    "plt.ylabel('MEDV')\n",
    "\n",
    "# Set the title\n",
    "plt.title('Scatter plot of RM and MEDV')\n",
    "\n",
    "# Show the scatter plot\n",
    "plt.show()"
   ]
  },
  {
   "cell_type": "markdown",
   "metadata": {},
   "source": [
    "In the scatter plot above, every point represents a row in our original dataset. Its location on the horizontal axis is determined by the value in the `RM` column, and its vertical position by the value in the `MEDV` column.\n",
    "\n",
    "Looking at the scatter plot, there seems to be a strong pattern between the two columns. As the value of `RM` increases, generally the value of `MEDV` also increases implying there is a strong positive correlation between the two. This result is as we anticipated, since it is quite obvious that there should be a positive relation between house price and average number of rooms."
   ]
  },
  {
   "cell_type": "code",
   "execution_count": null,
   "metadata": {},
   "outputs": [],
   "source": [
    "RM_col = data['RM']\n",
    "LSTAT_col = data['LSTAT']\n",
    "MEDV_col = data['MEDV']\n",
    "\n",
    "plt.scatter(RM_col, LSTAT_col, c=MEDV_col)\n",
    "plt.xlabel('RM')\n",
    "plt.ylabel('LSTAT')\n",
    "plt.colorbar()\n",
    "plt.show()"
   ]
  },
  {
   "cell_type": "markdown",
   "metadata": {},
   "source": [
    "## Exercise 8\n",
    "To conclude this notebook, let's combine all the plots we learned about into 1 grid. \n",
    "\n",
    "Below, create a subplot and place the following figures side-by-side:\n",
    "\n",
    "- Position 1: a green histogram of column ```RM```.\n",
    "- Position 2: a boxplot of column ```LSTAT```.\n",
    "- Position 3: a red scatterplot of columns ```RM``` and ```LSTAT```.\n",
    "\n",
    "We give you an empty cell below, but feel free to copy snippets from the previous exercises."
   ]
  },
  {
   "cell_type": "code",
   "execution_count": null,
   "metadata": {},
   "outputs": [],
   "source": []
  }
 ],
 "metadata": {
  "kernelspec": {
   "display_name": "Python 3",
   "language": "python",
   "name": "python3"
  },
  "language_info": {
   "codemirror_mode": {
    "name": "ipython",
    "version": 3
   },
   "file_extension": ".py",
   "mimetype": "text/x-python",
   "name": "python",
   "nbconvert_exporter": "python",
   "pygments_lexer": "ipython3",
   "version": "3.7.3"
  }
 },
 "nbformat": 4,
 "nbformat_minor": 2
}
