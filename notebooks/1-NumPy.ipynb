{
 "cells": [
  {
   "cell_type": "markdown",
   "metadata": {},
   "source": [
    "# Python beginners course - Level 1 - NumPy\n",
    "(inspired by work by Numan Yilmaz and exercises by Nicolas P. Rougier)\n",
    "\n",
    "This tutorial consists of the following parts:\n",
    "\n",
    " - What is NumPy?\n",
    " - How to create NumPy arrays\n",
    " - Indexing, Fancy Indexing\n",
    " - Slicing\n",
    " - Universal Functions (Ufuncs)\n",
    " - Broadcasting\n",
    " - Masking, Sorting and Comparison"
   ]
  },
  {
   "cell_type": "markdown",
   "metadata": {},
   "source": [
    "## 1. What is NumPy?\n",
    "\n",
    "NumPy can be seen as the foundation of mathematical calculations in Python. It provides a user-friendly way for the users to represent numerical data as lists or matrices objects and do calculations on these objects. For example, let's say you have a list of numbers ```[1, 2, 3]``` and want to calculate the mean of the list, then Numpy provides a simple syntax to do so. \n",
    "\n",
    "Because of it's ease of use and high performance, NumPy has become the basis for virtually every data science package that exists. In this notebook, we will demonstrate some of the most important functionality that NumPy has to offer, and provide you with some excercises to help you learn how to use it. \n",
    "\n",
    "Throughout this notebook, exercises are given that are designed such that they are similar to the examples provided. In the case that you are really lost or want to check your answer: you can find your answers [here](https://github.com/rougier/numpy-100/blob/master/100_Numpy_exercises.md).\n",
    "\n",
    "Before we get started, let's check the version of NumPy and Python. The cell below loads the NumPy library so that we can use it in later cells. If you reload this page, you also need to run the cell below again."
   ]
  },
  {
   "cell_type": "code",
   "execution_count": null,
   "metadata": {},
   "outputs": [],
   "source": [
    "# import numpy\n",
    "import numpy as np\n",
    "\n",
    "# sys was imported to check the python version\n",
    "import sys \n",
    "\n",
    "# check the version of python and numpy\n",
    "print('NumPy version:', np.__version__)\n",
    "print('Python version',sys.version)"
   ]
  },
  {
   "cell_type": "markdown",
   "metadata": {},
   "source": [
    "## 2. How to create NumPy arrays\n",
    "One of the most basic objects that NumPy uses is called a ```NumPy array```. You can think of a NumPy array as an ordered list of numbers. NumPy arrays can be used to represent large amounts of data.\n",
    "\n",
    "For example, you can use NumPy arrays to represent:\n",
    "- the height of 10 family members\n",
    "- the temperature every second of the last month\n",
    "- the EUR-SGD Exchange rates of the past 20 years\n",
    "- the first 5 million decimals of $\\pi$\n",
    "\n",
    "There are many ways to create NumPy arrays. We will take a look at a few of them here."
   ]
  },
  {
   "cell_type": "code",
   "execution_count": null,
   "metadata": {},
   "outputs": [],
   "source": [
    "# Creates a numpy array where we specify the values\n",
    "np.array([1, 2, 3])"
   ]
  },
  {
   "cell_type": "code",
   "execution_count": null,
   "metadata": {},
   "outputs": [],
   "source": [
    "# Creates a numpy array of specified length (3) where all values are 0\n",
    "np.zeros(3)"
   ]
  },
  {
   "cell_type": "code",
   "execution_count": null,
   "metadata": {},
   "outputs": [],
   "source": [
    "# Creates a numpy array of specified length (3) where all values are 1\n",
    "np.ones(3)"
   ]
  },
  {
   "cell_type": "code",
   "execution_count": null,
   "metadata": {},
   "outputs": [],
   "source": [
    "# Creates a numpy array with values in the range of 3 to 8\n",
    "np.arange(3,8)"
   ]
  },
  {
   "cell_type": "code",
   "execution_count": null,
   "metadata": {},
   "outputs": [],
   "source": [
    "# Creates a numpy array of specified length (3) where all values are random integers between 1 and 10\n",
    "np.random.randint(1, 10, 3)"
   ]
  },
  {
   "cell_type": "markdown",
   "metadata": {},
   "source": [
    "### Exercise 1:\n",
    "Run the cell above a couple of times. Do you ever see 10 appear? (spoiler: you won't). Adjust the code above such that 10 can also appear."
   ]
  },
  {
   "cell_type": "code",
   "execution_count": null,
   "metadata": {},
   "outputs": [],
   "source": [
    "# Creates a numpy array of specified length (5) where all values are evenly spaced between 0 and 10\n",
    "np.linspace(0, 10, 5)"
   ]
  },
  {
   "cell_type": "markdown",
   "metadata": {},
   "source": [
    "All of the NumPy arrays created above are 1-dimensional. However, most of the data we  use on a day-to-day basis is 2-dimensional; for example tabular data (Excel!). Luckily, NumPy is also able to handle 2-dimensional data (called a Matrix) in the form of 2-dimensional NumPy arrays."
   ]
  },
  {
   "cell_type": "code",
   "execution_count": null,
   "metadata": {},
   "outputs": [],
   "source": [
    "# Creates a 2-D numpy array with 3 columns and 4 rows\n",
    "np.array([[1, 2, 3  ],\n",
    "          [4, 5, 6 ],\n",
    "          [7, 8, 9 ],\n",
    "          [10,11,12]])"
   ]
  },
  {
   "cell_type": "code",
   "execution_count": null,
   "metadata": {},
   "outputs": [],
   "source": [
    "# Creates a 2-D numpy array with 3 rows and 5 rows where the values are random numbers between 0 and 1\n",
    "np.random.random((3,5))"
   ]
  },
  {
   "cell_type": "markdown",
   "metadata": {},
   "source": [
    "If we would store the data under a name (such as 'my_data'), then we can retrieve numbers at a specific location. \n",
    "\n",
    "NOTE: in Python, we always start from 0, i.e., the top left number is at location (0, 0)!"
   ]
  },
  {
   "cell_type": "code",
   "execution_count": null,
   "metadata": {},
   "outputs": [],
   "source": [
    "# Stores the data in a variable called 'my_data'\n",
    "my_data = np.array([[1, 2, 3],\n",
    "                    [4, 5, 6],\n",
    "                    [7, 8, 9]])\n",
    "\n",
    "# Retrieve the number at location (1, 1). Note the use of the square brackets instead of ( and ).\n",
    "my_data[1,1]"
   ]
  },
  {
   "cell_type": "markdown",
   "metadata": {},
   "source": [
    "### Exercise 2: Create a matrix of 3 by 3 and retrieve the number at location (2, 1)\n",
    "Replace the ```___``` in the following cell to complete the exercise."
   ]
  },
  {
   "cell_type": "code",
   "execution_count": null,
   "metadata": {},
   "outputs": [],
   "source": [
    "#store the data in a variable called 'my_data'\n",
    "my_data = ___\n",
    "\n",
    "#retrieve the number at location (2, 1)\n",
    "my_data[___]"
   ]
  },
  {
   "cell_type": "markdown",
   "metadata": {},
   "source": [
    "## 3. Slightly more advanced functionality\n",
    "We now have seen how to create basic 1- and 2-dimensional NumPy arrays. However, we have not yet done anything with the data. Let's see what we can do with NumPy arrays once we have created them.\n",
    "\n",
    "Below we will again create a 1-dimensional array and a 2-dimensional array and store them in the computer memory so that we can  manipulate the data.\n",
    "\n",
    "We will store the 1-dimensional array under the name ```a``` and store the 2-dimensional array under the name ```b```. "
   ]
  },
  {
   "cell_type": "code",
   "execution_count": null,
   "metadata": {
    "scrolled": true
   },
   "outputs": [],
   "source": [
    "# Creates a 1-D array with predefined values and stores it under the name 'a'\n",
    "a = np.array([1, 2, 3])\n",
    "\n",
    "# Creates a 2-D array of size (3,4) with random numbers between 0 and 10 and stores it under the name 'b'\n",
    "b = np.random.randint(0, 10, (3, 4))\n",
    "\n",
    "# In order to see the data, we can print it to the screen:\n",
    "print(\"array a:\")\n",
    "print(a)\n",
    "\n",
    "print(\"array b:\")\n",
    "print(b)"
   ]
  },
  {
   "cell_type": "markdown",
   "metadata": {},
   "source": [
    "In Python words, we refer to names as **variables**, as the data they store can vary over time. The variables ```a``` and ```b``` are now stored in the computers memory. Let's do some modifications to our variables: let's add a number to our 1-dimensional array."
   ]
  },
  {
   "cell_type": "code",
   "execution_count": null,
   "metadata": {},
   "outputs": [],
   "source": [
    "print(\"a =\", a)\n",
    "\n",
    "# Adding the number 4 to to our existing array 'a'\n",
    "a = np.append(a, 4)\n",
    "print(\"a =\", a)\n",
    "\n",
    "# Adding a different array to the array 'a'\n",
    "a = np.append(a, np.array([5,6,7]))\n",
    "print(\"a =\", a)"
   ]
  },
  {
   "cell_type": "markdown",
   "metadata": {},
   "source": [
    "Sometimes, it is also convenient to know the shape of your array (number of rows, number of columns) or how many dimensions it has without actually having to count yourselves. Therefore, NumPy also provides functionality."
   ]
  },
  {
   "cell_type": "code",
   "execution_count": null,
   "metadata": {},
   "outputs": [],
   "source": [
    "# print the shape of 'the arrays 'a' and 'b'\n",
    "print(\"Shape of a:\", np.shape(a))\n",
    "print(\"Shape of b:\", np.shape(b))\n",
    "\n",
    "# print the dimension of the arrays 'a' and 'b'\n",
    "print('Dimension of a:', np.ndim(a))\n",
    "print('Dimension of b:', np.ndim(b))"
   ]
  },
  {
   "cell_type": "markdown",
   "metadata": {},
   "source": [
    "Another property that a programmer is often interested in is how many elements (numbers) the array contains. You could derive this yourselves from the previously mentioned shape and number of dimensions, but NumPy provides a function which does the calculation for you."
   ]
  },
  {
   "cell_type": "code",
   "execution_count": null,
   "metadata": {},
   "outputs": [],
   "source": [
    "#  Calculate the number of elements in arrays 'a' and 'b'\n",
    "print('Number of elements in a:', np.size(a))\n",
    "print('Number of elements in b:', np.size(b))"
   ]
  },
  {
   "cell_type": "markdown",
   "metadata": {},
   "source": [
    "### Exercise 3:  Create a array with values ranging from 10 up to and including 49\n",
    "(**hint**: np.arange)"
   ]
  },
  {
   "cell_type": "code",
   "execution_count": null,
   "metadata": {},
   "outputs": [],
   "source": []
  },
  {
   "cell_type": "markdown",
   "metadata": {},
   "source": [
    "## 4. Indexing\n",
    "As mentioned earlier, you can consider NumPy arrays as an ordered list of numbers. In an ordered list, you expect the order of the number to be meaningful in some way, and that you can extract or modify specific numbers from the list of which you know the place (index) they have in the list.\n",
    "\n",
    "In a NumPy array this is all possible. Contents of a NumPy array object can be accessed and modified through ```indexing```. In Python, an index denotes the location of a certain element in (for instance) a NumPy array. \n",
    "\n",
    "Two types of indexing methods are available:\n",
    "- indexing: accessing a single item of an array\n",
    "- slicing: accessing a subset (multiple) items of an array\n",
    "\n",
    "Next we will illustrate these two methods below."
   ]
  },
  {
   "cell_type": "code",
   "execution_count": null,
   "metadata": {},
   "outputs": [],
   "source": [
    "# Creates a numpy array with values between 1 and 11\n",
    "X = np.arange(1,11)\n",
    "print(X)"
   ]
  },
  {
   "cell_type": "markdown",
   "metadata": {},
   "source": [
    "It is important to note that the **indexing in Python starts at 0**. This means that if you want to access the 1st element then you must look at index 0. We will illustrate that with an example:"
   ]
  },
  {
   "cell_type": "code",
   "execution_count": null,
   "metadata": {},
   "outputs": [],
   "source": [
    "# get the first element in the array by using the index 0\n",
    "first_element = X[0]\n",
    "print(\"The first element =\", first_element)\n",
    "\n",
    "# get the fourth element in the array by using the index 3\n",
    "fourth_element = X[3]\n",
    "print(\"The fourth element =\", fourth_element)"
   ]
  },
  {
   "cell_type": "markdown",
   "metadata": {},
   "source": [
    "### Exercise 4: obtain the 7th element of the array\n",
    "Replace the ```___``` in the following cell to complete the excercise."
   ]
  },
  {
   "cell_type": "code",
   "execution_count": null,
   "metadata": {},
   "outputs": [],
   "source": [
    "# replace the ___ with the appropriate code\n",
    "seventh_element = X[___]\n",
    "print(\"The seventh element =\", seventh_element)"
   ]
  },
  {
   "cell_type": "markdown",
   "metadata": {},
   "source": [
    "Instead of just accessing a particular element, it is also possible to modify an indexed element to a different number. Let's change the number 7 into a 77."
   ]
  },
  {
   "cell_type": "code",
   "execution_count": null,
   "metadata": {},
   "outputs": [],
   "source": [
    "# access the element at index 6 (the number 7) and set it to 77\n",
    "X[6] = 77\n",
    "X"
   ]
  },
  {
   "cell_type": "markdown",
   "metadata": {},
   "source": [
    "Often, you do not only want to access a single element of an array. Instead, you want to access or modify a subset (multiple) elements of an array. This can be achieved using _slicing_. The syntax is quite similar to indexing as we will see."
   ]
  },
  {
   "cell_type": "code",
   "execution_count": null,
   "metadata": {},
   "outputs": [],
   "source": [
    "# get a 'slice' of the array by defining the start (2) and end (5) index\n",
    "X[2:5]"
   ]
  },
  {
   "cell_type": "markdown",
   "metadata": {},
   "source": [
    "In the slicing example above, we are getting the elements at indexes 2, 3 and 4. The same syntax works for slicing on 2-dimensional arrays."
   ]
  },
  {
   "cell_type": "code",
   "execution_count": null,
   "metadata": {},
   "outputs": [],
   "source": [
    "# create a 2-dimensional array of size (4,4)\n",
    "Y= np.array([[ 1,  2,  3,  4],\n",
    "             [ 5,  6,  7,  8],\n",
    "             [ 9, 10, 11, 12],\n",
    "             [13, 14, 15, 16]])\n",
    "Y"
   ]
  },
  {
   "cell_type": "code",
   "execution_count": null,
   "metadata": {},
   "outputs": [],
   "source": [
    "# use slicing to get the first two rows\n",
    "Y[0:2, :]"
   ]
  },
  {
   "cell_type": "code",
   "execution_count": null,
   "metadata": {},
   "outputs": [],
   "source": [
    "# use slicing to get the last two columns\n",
    "Y[:, 2:4]"
   ]
  },
  {
   "cell_type": "code",
   "execution_count": null,
   "metadata": {},
   "outputs": [],
   "source": [
    "# combine both previous slices to obtain the last 2 columns of the first 2 rows\n",
    "Y[0:2, 2:4]"
   ]
  },
  {
   "cell_type": "markdown",
   "metadata": {},
   "source": [
    "### Exercise 5: use slicing to get the first two elements of the last two rows\n",
    "Replace the ```___``` in the following cell to complete the exercise."
   ]
  },
  {
   "cell_type": "code",
   "execution_count": null,
   "metadata": {},
   "outputs": [],
   "source": [
    "# replace the ___ with the appropriate code\n",
    "Y[___, ____]"
   ]
  },
  {
   "cell_type": "markdown",
   "metadata": {},
   "source": [
    "### Exercise 6: use slicing to replace the first two elements of the last two rows with 0's\n",
    "Replace the ```___``` in the following cell to complete the exercise."
   ]
  },
  {
   "cell_type": "code",
   "execution_count": null,
   "metadata": {},
   "outputs": [],
   "source": [
    "# replace the ___ with the appropriate code\n",
    "Y[__,__] = np.zeros(___)"
   ]
  },
  {
   "cell_type": "markdown",
   "metadata": {},
   "source": [
    "### Exercise 7:  Create an array of zeros of size 10 but the fifth value is equal to 1\n",
    "(**hint**: np.zeros and indexing)"
   ]
  },
  {
   "cell_type": "code",
   "execution_count": null,
   "metadata": {},
   "outputs": [],
   "source": []
  },
  {
   "cell_type": "markdown",
   "metadata": {},
   "source": [
    "## 5. Universal Functions\n",
    "\n",
    "So far, we have only shown a very small number of the functionality that is present in NumPy. However, to make it easy to browse through all the functionality that NumPy has to offer, Numpy has added functionality for that too!\n",
    "\n",
    "To see all defined functions, you can type ```np.``` and press ```TAB``` and the following drop-down menu will appear:\n",
    "![](../assets/numpy.png)\n",
    "This menu contains a list of all functions that are defined within NumPy; for example ```abs``` which calculates the absolute value of the input.\n",
    "\n",
    "Let's have a look at some of the functions that NumPy has to offer."
   ]
  },
  {
   "cell_type": "code",
   "execution_count": null,
   "metadata": {},
   "outputs": [],
   "source": [
    "# create an array with values from 1 to 10\n",
    "X = np.arange(1, 11)\n",
    "X"
   ]
  },
  {
   "cell_type": "code",
   "execution_count": null,
   "metadata": {},
   "outputs": [],
   "source": [
    "# find the maximum element of X\n",
    "np.max(X)"
   ]
  },
  {
   "cell_type": "markdown",
   "metadata": {},
   "source": [
    "### Exercise 8: use the drop-down menu to find a function that calculates the minimum of an array\n",
    "After hitting ```tab``` it can take a couple of seconds for the drop-down menu to appear.\n",
    "\n",
    "Replace the ```___``` in the following cell to complete the exercise."
   ]
  },
  {
   "cell_type": "code",
   "execution_count": null,
   "metadata": {},
   "outputs": [],
   "source": [
    "# replace ___ with the appropriate code\n",
    "np.___"
   ]
  },
  {
   "cell_type": "markdown",
   "metadata": {},
   "source": [
    " "
   ]
  },
  {
   "cell_type": "code",
   "execution_count": null,
   "metadata": {},
   "outputs": [],
   "source": [
    "# create an array with values from 1 to 10\n",
    "X = np.arange(1, 11)\n",
    "X"
   ]
  },
  {
   "cell_type": "code",
   "execution_count": null,
   "metadata": {},
   "outputs": [],
   "source": [
    "# find the mean of the elements in the array X\n",
    "np.mean(X)"
   ]
  },
  {
   "cell_type": "code",
   "execution_count": null,
   "metadata": {},
   "outputs": [],
   "source": [
    "# raise every element of the array to the power of 4\n",
    "np.power(X, 4)"
   ]
  },
  {
   "cell_type": "code",
   "execution_count": null,
   "metadata": {},
   "outputs": [],
   "source": [
    "# raise every element of the array to the power of 2 (squared)\n",
    "np.square(X)"
   ]
  },
  {
   "cell_type": "code",
   "execution_count": null,
   "metadata": {},
   "outputs": [],
   "source": [
    "# calculate the square root of every element of the array\n",
    "np.sqrt(X)"
   ]
  },
  {
   "cell_type": "code",
   "execution_count": null,
   "metadata": {},
   "outputs": [],
   "source": [
    "# calculate the sine of each of the elements of the array\n",
    "np.sin(X)"
   ]
  },
  {
   "cell_type": "code",
   "execution_count": null,
   "metadata": {},
   "outputs": [],
   "source": [
    "# calculate the tangent of each of the elements of the array\n",
    "np.tan(X)"
   ]
  },
  {
   "cell_type": "code",
   "execution_count": null,
   "metadata": {},
   "outputs": [],
   "source": [
    "# raise every element of X to the power of 3, raise every element of X to the power of 2 and add the values\n",
    "np.power(X, 3) + np.square(X)"
   ]
  },
  {
   "cell_type": "markdown",
   "metadata": {},
   "source": [
    "Now lets try some of these functions on a 2-dimensional array."
   ]
  },
  {
   "cell_type": "code",
   "execution_count": null,
   "metadata": {},
   "outputs": [],
   "source": [
    "Y = np.array([[ 1,  2,  3,  4],\n",
    "              [ 5,  6,  7,  8],\n",
    "              [ 9, 10, 11, 12],\n",
    "              [13, 14, 15, 16]])\n",
    "Y"
   ]
  },
  {
   "cell_type": "code",
   "execution_count": null,
   "metadata": {},
   "outputs": [],
   "source": [
    "# multiply all elements of Y by 2\n",
    "np.multiply(Y, 2)"
   ]
  },
  {
   "cell_type": "code",
   "execution_count": null,
   "metadata": {},
   "outputs": [],
   "source": [
    "# raise every element of Y to the power of 3, raise every element of Y to the power of 2 and add the values\n",
    "np.power(Y, 3) + np.square(Y)"
   ]
  },
  {
   "cell_type": "markdown",
   "metadata": {},
   "source": [
    "### Exercise 9: find the median of values in X\n",
    "Replace the ```___``` in the following cell to complete the exercise."
   ]
  },
  {
   "cell_type": "code",
   "execution_count": null,
   "metadata": {},
   "outputs": [],
   "source": [
    "X = np.random.randint(0, 10)\n",
    "\n",
    "# replace ___ with the appropriate code\n",
    "np.___"
   ]
  },
  {
   "cell_type": "markdown",
   "metadata": {},
   "source": [
    "### Exercise 10:  Create a 10x10 array with random values and find the minimum and maximum values\n",
    "Replace the ```___``` in the following cell to complete the exercise.\n",
    "\n",
    "(**hint**: see above how to create random arrays)"
   ]
  },
  {
   "cell_type": "code",
   "execution_count": null,
   "metadata": {},
   "outputs": [],
   "source": [
    "X = ____\n",
    "\n",
    "# replace ___ with the appropriate code\n",
    "X = np.___"
   ]
  },
  {
   "cell_type": "markdown",
   "metadata": {},
   "source": [
    "### Exercise 11: create an array of 30 random values and find the mean value\n",
    "(**hint**: mean)"
   ]
  },
  {
   "cell_type": "code",
   "execution_count": null,
   "metadata": {},
   "outputs": [],
   "source": []
  },
  {
   "cell_type": "markdown",
   "metadata": {},
   "source": [
    "### Challenge: create an array of size (5,5) with values 1,2,3,4 just below the diagonal and 0's elsewhere\n",
    "(**hint**: np.diag)"
   ]
  },
  {
   "cell_type": "code",
   "execution_count": null,
   "metadata": {},
   "outputs": [],
   "source": []
  },
  {
   "cell_type": "markdown",
   "metadata": {},
   "source": [
    "## 6. Sorting\n",
    "NumPy arrays are also called an ordered list, because it has a certain ordering. There are many options to change the ordering. The most common option is using the *sort* function. Lets see how that works for one dimension:"
   ]
  },
  {
   "cell_type": "code",
   "execution_count": null,
   "metadata": {},
   "outputs": [],
   "source": [
    "# create array of 15 numbers between 1 and 10\n",
    "X = np.random.randint(1, 10, 15)\n",
    "X"
   ]
  },
  {
   "cell_type": "code",
   "execution_count": null,
   "metadata": {},
   "outputs": [],
   "source": [
    "# sort elements in array X\n",
    "np.sort(X)"
   ]
  },
  {
   "cell_type": "markdown",
   "metadata": {},
   "source": [
    "Pretty easy, right? Now, for two-dimensional data we need to specify whether we want to sort horizonally or vertically. We specify the *axis* argument to determine this."
   ]
  },
  {
   "cell_type": "code",
   "execution_count": null,
   "metadata": {},
   "outputs": [],
   "source": [
    "# create (3,3) matrix of numbers between 1 and 5\n",
    "Y = np.random.randint(1,5, (3,3))\n",
    "Y"
   ]
  },
  {
   "cell_type": "code",
   "execution_count": null,
   "metadata": {},
   "outputs": [],
   "source": [
    "# sort vertically (columns / top to bottom)\n",
    "np.sort(Y, axis=0)"
   ]
  },
  {
   "cell_type": "code",
   "execution_count": null,
   "metadata": {},
   "outputs": [],
   "source": [
    "# sort horizontally (rows / left to right)\n",
    "np.sort(Y, axis=1)"
   ]
  },
  {
   "cell_type": "markdown",
   "metadata": {},
   "source": [
    "### Challenge 2: sort array Y to be sorted from left to right AND top to bottom. \n",
    "In other words, the lowest number is in the top left corner and the highest number in the bottom right corner."
   ]
  },
  {
   "cell_type": "code",
   "execution_count": null,
   "metadata": {},
   "outputs": [],
   "source": []
  },
  {
   "cell_type": "markdown",
   "metadata": {},
   "source": [
    "## 6. Filtering\n",
    "You might want to be able to filter the numbers in an array. NumPy lets you define statements that can be either True or False. \n",
    "\n",
    "Some symbols used to perform a true/false comparison test on every element include:\n",
    "\n",
    "  - **==**, which means 'equal to'\n",
    "  - **!=**, which means 'not equal to'\n",
    "  - **<, >**, which mean 'smaller than' and 'greater than'\n",
    "  - **<=, >=**, which mean 'smaller than or equal to' and 'greater than or equal to'\n"
   ]
  },
  {
   "cell_type": "code",
   "execution_count": null,
   "metadata": {},
   "outputs": [],
   "source": [
    "# create array of 15 numbers between 1 and 10\n",
    "X = np.random.randint(1, 10, 15)\n",
    "X"
   ]
  },
  {
   "cell_type": "code",
   "execution_count": null,
   "metadata": {},
   "outputs": [],
   "source": [
    "# get alle elements greater than 3\n",
    "X[X > 3]"
   ]
  },
  {
   "cell_type": "markdown",
   "metadata": {},
   "source": [
    "You can also construct more complex conditions by using:\n",
    "  \n",
    "  - *&*, which means 'and'\n",
    "  - *|*, which means 'or'"
   ]
  },
  {
   "cell_type": "code",
   "execution_count": null,
   "metadata": {},
   "outputs": [],
   "source": [
    "# all numbers greater than 1 and lower than 8\n",
    "X[(X > 1) & (X < 8)]"
   ]
  },
  {
   "cell_type": "code",
   "execution_count": null,
   "metadata": {},
   "outputs": [],
   "source": [
    "# all numbers lower than 4 or greater than 8\n",
    "X[(X < 4) | (X > 8)]"
   ]
  },
  {
   "cell_type": "markdown",
   "metadata": {},
   "source": [
    "### Exercise 12: filter to show only numbers that end with 5, 6 or 7.\n",
    "Replace the ```___``` in the following cell to complete the exercise."
   ]
  },
  {
   "cell_type": "code",
   "execution_count": null,
   "metadata": {},
   "outputs": [],
   "source": [
    "X = np.random.randint(1, 20, 50)\n",
    "\n",
    "X[_______]"
   ]
  }
 ],
 "metadata": {
  "kernelspec": {
   "display_name": "Python 3",
   "language": "python",
   "name": "python3"
  },
  "language_info": {
   "codemirror_mode": {
    "name": "ipython",
    "version": 3
   },
   "file_extension": ".py",
   "mimetype": "text/x-python",
   "name": "python",
   "nbconvert_exporter": "python",
   "pygments_lexer": "ipython3",
   "version": "3.7.3"
  }
 },
 "nbformat": 4,
 "nbformat_minor": 2
}
