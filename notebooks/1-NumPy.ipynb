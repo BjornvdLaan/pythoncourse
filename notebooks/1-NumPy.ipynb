{
 "cells": [
  {
   "cell_type": "markdown",
   "metadata": {},
   "source": [
    "# Python beginners course - Level 1 - NumPy\n",
    "(inspired by work by Numan Yilmaz and exercises by Nicolas P. Rougier)\n",
    "\n",
    "This tutorial consists of the following parts:\n",
    "\n",
    " - What is NumPy?\n",
    " - How to create NumPy arrays\n",
    " - Indexing, Fancy Indexing\n",
    " - Slicing\n",
    " - Universal Functions (Ufuncs)\n",
    " - Broadcasting\n",
    " - Masking, Sorting and Comparison"
   ]
  },
  {
   "cell_type": "markdown",
   "metadata": {},
   "source": [
    "## 1. What is NumPy?\n",
    "\n",
    "NumPy can be seen as the foundation of mathematical calculations in Python. It provides a user-friendly way for the users to represent numerical data as lists or matrices objects and do calculations on these objects. For example, let's say you have a list of numbers ```[1, 2, 3]``` and want to calculate the mean of the list, Numpy provides a simple syntax to do so. \n",
    "\n",
    "Because it's ease of use and high performance, NumPy has become the basis for virtually every data science package that exists. In this notebook, we will demonstrate some of the most important functionality that NumPy has to offer, and provide you with some excercises to help you learn use it. The exercises are designed such that they are similar to the examples provided. In the case that you are really lost or want to check your answer: you can find your answers [here](https://github.com/rougier/numpy-100/blob/master/100_Numpy_exercises.md).\n",
    "\n",
    "Before we get started, let's check the version of NumPy and Python."
   ]
  },
  {
   "cell_type": "code",
   "execution_count": null,
   "metadata": {},
   "outputs": [],
   "source": [
    "# import numpy\n",
    "import numpy as np\n",
    "\n",
    "# sys was imported to check the python version\n",
    "import sys \n",
    "\n",
    "# check the version of python and numpy\n",
    "print('NumPy version:', np.__version__)\n",
    "print('Python version',sys.version)"
   ]
  },
  {
   "cell_type": "markdown",
   "metadata": {},
   "source": [
    "## 2. How to create NumPy arrays\n",
    "One of the most basic objects that NumPy uses is called a ```NumPy array```. You can think of a NumPy array as a ordered list of numbers. NumPy arrays can be used to represent a lot of data.\n",
    "\n",
    "For example, you can use NumPy arrays to represent:\n",
    "- the height of 10 family members\n",
    "- the temperature in the last month\n",
    "- the EUR-USD Exchange rates of the past 20 years\n",
    "- the first 5 million decimals of $\\pi$\n",
    "\n",
    "There are many ways to create NumPy arrays. We will take a look at a few of them here."
   ]
  },
  {
   "cell_type": "code",
   "execution_count": null,
   "metadata": {},
   "outputs": [],
   "source": [
    "# Creates a numpy array where we specify the values\n",
    "np.array([1, 2, 3])"
   ]
  },
  {
   "cell_type": "code",
   "execution_count": null,
   "metadata": {},
   "outputs": [],
   "source": [
    "# Creates a numpy array of specified length (3) where all values are 0\n",
    "np.zeros(3)"
   ]
  },
  {
   "cell_type": "code",
   "execution_count": null,
   "metadata": {},
   "outputs": [],
   "source": [
    "# Creates a numpy array of specified length (3) where all values are 1\n",
    "np.ones(3)"
   ]
  },
  {
   "cell_type": "code",
   "execution_count": null,
   "metadata": {},
   "outputs": [],
   "source": [
    "# Creates a numpy array with values between 3 and 8\n",
    "np.arange(3,8)"
   ]
  },
  {
   "cell_type": "code",
   "execution_count": null,
   "metadata": {},
   "outputs": [],
   "source": [
    "# Creates a numpy array of specified length (3) where all values are random integers between 1 and 10\n",
    "np.random.randint(1, 10, 3)"
   ]
  },
  {
   "cell_type": "markdown",
   "metadata": {},
   "source": [
    "### Exercise:\n",
    "Run the cell above a couple of times. Do you ever see 10 appear? Adjust the code above such that 10 can also appear."
   ]
  },
  {
   "cell_type": "code",
   "execution_count": null,
   "metadata": {},
   "outputs": [],
   "source": [
    "# Creates a numpy array of specified length (5) where all values are evenly spaced between 0 and 10\n",
    "np.linspace(0, 10, 5)"
   ]
  },
  {
   "cell_type": "markdown",
   "metadata": {},
   "source": [
    "All of the NumPy arrays created above are 1-dimensional. However, most of the data we  use on a day-to-day basis is 2-dimensional; for example tabular data. Luckily, NumPy is also able to handle 2-dimensional data in the form of 2-dimensional NumPy arrays."
   ]
  },
  {
   "cell_type": "code",
   "execution_count": null,
   "metadata": {},
   "outputs": [],
   "source": [
    "# Creates a 2-D numpy array with 3 columns and 4 rows\n",
    "np.array([[1, 2, 3  ],\n",
    "          [4, 5, 6 ],\n",
    "          [7, 8, 9 ],\n",
    "          [10,11,12]])"
   ]
  },
  {
   "cell_type": "code",
   "execution_count": null,
   "metadata": {},
   "outputs": [],
   "source": [
    "# Creates a 2-D numpy array with 3 rows and 5 rows where the values are random numbers between 0 and 1\n",
    "np.random.random((3,5))"
   ]
  },
  {
   "cell_type": "markdown",
   "metadata": {},
   "source": [
    "### Exercise: Create an array of zeroes of size 10\n",
    "(**hint**: np.zeros)"
   ]
  },
  {
   "cell_type": "code",
   "execution_count": null,
   "metadata": {},
   "outputs": [],
   "source": []
  },
  {
   "cell_type": "markdown",
   "metadata": {},
   "source": [
    "## 3. Slightly more advanced functionality\n",
    "We now have seen how to create basic 1- and 2-dimensional NumPy arrays. However, we have not yet done anything with the data. Let's see what we can do with NumPy arrays once we have created them.\n",
    "\n",
    "Previously, we just created NumPy arrays, without actually storing them into the memory of the computer. Let's now again create a 1-dimensional array and a 2-dimensional array, but this time we will store them in the computer memory so that we can actually manipulate the data.\n",
    "\n",
    "We will store the 1-dimensional array under the name ```a``` and store the 2-dimensional array under the name ```b```."
   ]
  },
  {
   "cell_type": "code",
   "execution_count": null,
   "metadata": {
    "scrolled": true
   },
   "outputs": [],
   "source": [
    "# Creates a 1-D array with predefined values and stores it under the name 'a'\n",
    "a = np.array([1,2,3])\n",
    "\n",
    "# Creates a 2-D array of size (3,4) with random integers between 0 and 10 and stores it under the name 'b'\n",
    "b = np.random.randint(0,10, (3,4))\n",
    "\n",
    "# In order to see the data, we can print it to the screen:\n",
    "print(\"array a:\")\n",
    "print(a)\n",
    "\n",
    "print(\"array b:\")\n",
    "print(b)"
   ]
  },
  {
   "cell_type": "markdown",
   "metadata": {},
   "source": [
    "The variables ```a``` and ```b``` are now stored in the computers memory. Now let's do some modifications to our variables: let's add a number to our 1-dimensional array."
   ]
  },
  {
   "cell_type": "code",
   "execution_count": null,
   "metadata": {},
   "outputs": [],
   "source": [
    "print(\"a =\", a)\n",
    "\n",
    "# Adding the number 4 to to our existing array 'a'\n",
    "a = np.append(a, 4)\n",
    "print(\"a =\", a)\n",
    "\n",
    "# Adding a different array to the array 'a'\n",
    "a = np.append(a, np.array([5,6,7]))\n",
    "print(\"a =\", a)"
   ]
  },
  {
   "cell_type": "markdown",
   "metadata": {},
   "source": [
    "Sometimes, it is also convenient to know the shape of your array (number of rows, number of columns) or how many dimensions it has without actually having to count yourselves. Therefore, NumPy also provides functionality."
   ]
  },
  {
   "cell_type": "code",
   "execution_count": null,
   "metadata": {},
   "outputs": [],
   "source": [
    "# print the shape of 'the arrays 'a' and 'b'\n",
    "print(\"Shape of a:\", np.shape(a))\n",
    "print(\"Shape of b:\", np.shape(b))\n",
    "\n",
    "# print the dimension of the arrays 'a' and 'b'\n",
    "print('Dimension of a:', np.ndim(a))\n",
    "print('Dimension of b:', np.ndim(b))"
   ]
  },
  {
   "cell_type": "markdown",
   "metadata": {},
   "source": [
    "Another property that a programmer is often interested in, is how many elements (numbers) the array contains. You could derive this yourselves from the previously mentioned shape and number of dimensions, but NumPy provides a function which does the calculation for you."
   ]
  },
  {
   "cell_type": "code",
   "execution_count": null,
   "metadata": {},
   "outputs": [],
   "source": [
    "#  Calculate the number of elements in arrays 'a' and 'b'\n",
    "print('Number of elements in a:', np.size(a))\n",
    "print('Number of elements in b:', np.size(b))"
   ]
  },
  {
   "cell_type": "markdown",
   "metadata": {},
   "source": [
    "### Exercise:  Create a array with values ranging from 10 up to and including 49\n",
    "(**hint**: np.arange)"
   ]
  },
  {
   "cell_type": "code",
   "execution_count": null,
   "metadata": {},
   "outputs": [],
   "source": []
  },
  {
   "cell_type": "markdown",
   "metadata": {},
   "source": [
    "## 4. Indexing\n",
    "As mentioned earlier, you can consider NumPy arrays as an ordered list of numbers. In an ordered list, you expect the order of the number to be meaningful in some way, and that you can extract or modify specific numbers from the list of which you know the place (index) they have in the list.\n",
    "\n",
    "In a NumPy array this is also possible. Contents of a NumPy array object can be accessed and modified through indexing. Three types of indexing methods are available:\n",
    "- indexing: accessing a single item of an array\n",
    "- slicing: accessing a subset (multiple) items of an array\n",
    "\n",
    "Next we will illustrate these two methods.\n",
    "\n",
    "It is important to note that the **indexing in Python starts at 0**. This means that if you want to access the 1st element of an array, in Python this means accessing the element with index 0, as we will illustrate."
   ]
  },
  {
   "cell_type": "code",
   "execution_count": null,
   "metadata": {},
   "outputs": [],
   "source": [
    "# Creates a numpy array with values between 1 and 11\n",
    "X = np.arange(1,11)\n",
    "X"
   ]
  },
  {
   "cell_type": "markdown",
   "metadata": {},
   "source": [
    "Now we shall try and access the 1st and the 4th elements of the array using indexing."
   ]
  },
  {
   "cell_type": "code",
   "execution_count": null,
   "metadata": {},
   "outputs": [],
   "source": [
    "# get the first element in the array by using the index 0\n",
    "first_element = X[0]\n",
    "print(\"The first element =\", first_element)\n",
    "\n",
    "# get the fourth element in the array by using the index 3\n",
    "fourth_element = X[3]\n",
    "print(\"The fourth element =\", fourth_element)"
   ]
  },
  {
   "cell_type": "markdown",
   "metadata": {},
   "source": [
    "### Exercise: obtain the 7th element of the array\n",
    "Replace the ```___``` in the following cell to complete the excercise."
   ]
  },
  {
   "cell_type": "code",
   "execution_count": null,
   "metadata": {},
   "outputs": [],
   "source": [
    "# replace the ___ with the appropriate code\n",
    "seventh_element = X[___]\n",
    "print(\"The seventh element =\", seventh_element)"
   ]
  },
  {
   "cell_type": "markdown",
   "metadata": {},
   "source": [
    "Instead of just accessing a particular element, it is also possible to modify an indexed element to a different number. Let's change the number 7 into a 77."
   ]
  },
  {
   "cell_type": "code",
   "execution_count": null,
   "metadata": {},
   "outputs": [],
   "source": [
    "# access the element at index 6 (the number 7) and set it to 77\n",
    "X[6] = 77\n",
    "X"
   ]
  },
  {
   "cell_type": "markdown",
   "metadata": {},
   "source": [
    "Often, you do not only want to access a single element of an array. Instead, you want to access or modify a subset (multiple) elements of an array. This can be achieved using _slicing_. The syntax is quite similar to indexing as we will see."
   ]
  },
  {
   "cell_type": "code",
   "execution_count": null,
   "metadata": {},
   "outputs": [],
   "source": [
    "# get a 'slice' of the array by defining the start (2) and end (5) index\n",
    "X[2:5]"
   ]
  },
  {
   "cell_type": "markdown",
   "metadata": {},
   "source": [
    "In the slicing example above, we are getting the elements at indexes 2, 3 and 4. The same syntax works for slicing on 2-dimensional arrays."
   ]
  },
  {
   "cell_type": "code",
   "execution_count": null,
   "metadata": {},
   "outputs": [],
   "source": [
    "# create a n\n",
    "Y= np.array([[ 1,  2,  3,  4],\n",
    "             [ 5,  6,  7,  8],\n",
    "             [ 9, 10, 11, 12],\n",
    "             [13, 14, 15, 16]])\n",
    "Y"
   ]
  },
  {
   "cell_type": "code",
   "execution_count": null,
   "metadata": {},
   "outputs": [],
   "source": [
    "# use slicing to get the first two rows\n",
    "Y[0:2, :]"
   ]
  },
  {
   "cell_type": "code",
   "execution_count": null,
   "metadata": {},
   "outputs": [],
   "source": [
    "# use slicing to get the last two columns\n",
    "Y[:, 2:4]"
   ]
  },
  {
   "cell_type": "code",
   "execution_count": null,
   "metadata": {},
   "outputs": [],
   "source": [
    "# combine both previous slices to obtain the last 2 columns of the first 2 rows\n",
    "Y[0:2, 2:4]"
   ]
  },
  {
   "cell_type": "markdown",
   "metadata": {},
   "source": [
    "### Exercise: use slicing to get the first two elements of the last two rows"
   ]
  },
  {
   "cell_type": "code",
   "execution_count": null,
   "metadata": {},
   "outputs": [],
   "source": [
    "# replace the ___ with the appropriate code\n",
    "Y[___, ____]"
   ]
  },
  {
   "cell_type": "markdown",
   "metadata": {},
   "source": [
    "### Exercise: use slicing to replace the first two elements of the last two rows with 0's"
   ]
  },
  {
   "cell_type": "code",
   "execution_count": null,
   "metadata": {},
   "outputs": [],
   "source": [
    "# replace the ___ with the appropriate code\n",
    "Y[__,__] = np.array(___)"
   ]
  },
  {
   "cell_type": "markdown",
   "metadata": {},
   "source": [
    "### Exercise:  Create an array of zeros of size 10 but the fifth value is equal to 1\n",
    "(**hint**: np.zeros and indexing)"
   ]
  },
  {
   "cell_type": "code",
   "execution_count": null,
   "metadata": {},
   "outputs": [],
   "source": []
  },
  {
   "cell_type": "markdown",
   "metadata": {},
   "source": [
    "## 5. Universal Functions\n",
    "\n",
    "So far, we have only shown a very small number of the functionality that is present in NumPy. However, to make it easy to browse through all the functionality that NumPy has to offer, Numpy has added functionality for that too!\n",
    "\n",
    "To see all defined functions, you can type ```np.``` and press ```TAB``` and the following drop-down menu will appear:\n",
    "![](../assets/numpy.png)\n",
    "This menu contains a list of all functions that are defined within NumPy; for example ```abs``` which calculates the absolute value of the input.\n",
    "\n",
    "Let's have a look at some of the functions that NumPy has to offer."
   ]
  },
  {
   "cell_type": "code",
   "execution_count": null,
   "metadata": {},
   "outputs": [],
   "source": [
    "# create an array with values from 1 to 10\n",
    "X = np.arange(1, 11)\n",
    "X"
   ]
  },
  {
   "cell_type": "code",
   "execution_count": null,
   "metadata": {},
   "outputs": [],
   "source": [
    "# find the maximum element of X\n",
    "np.max(X)"
   ]
  },
  {
   "cell_type": "markdown",
   "metadata": {},
   "source": [
    "### Exercise: use the drop-down menu to find a function that calculates the minimum of an array"
   ]
  },
  {
   "cell_type": "code",
   "execution_count": null,
   "metadata": {},
   "outputs": [],
   "source": [
    "# replace ___ with the appropriate code\n",
    "np.___"
   ]
  },
  {
   "cell_type": "code",
   "execution_count": null,
   "metadata": {},
   "outputs": [],
   "source": [
    "# find the mean of the elements in the array X\n",
    "np.mean(X)"
   ]
  },
  {
   "cell_type": "code",
   "execution_count": null,
   "metadata": {},
   "outputs": [],
   "source": [
    "# raise every element of the array to the power of 4\n",
    "np.power(X, 4)"
   ]
  },
  {
   "cell_type": "code",
   "execution_count": null,
   "metadata": {},
   "outputs": [],
   "source": [
    "# raise every element of the array to the power of 2 (squared)\n",
    "np.square(X)"
   ]
  },
  {
   "cell_type": "code",
   "execution_count": null,
   "metadata": {},
   "outputs": [],
   "source": [
    "# calculate the square root of every element of the array\n",
    "np.sqrt(X)"
   ]
  },
  {
   "cell_type": "code",
   "execution_count": null,
   "metadata": {},
   "outputs": [],
   "source": [
    "# calculate the sine of each of the elements of the array\n",
    "np.sin(X)"
   ]
  },
  {
   "cell_type": "code",
   "execution_count": null,
   "metadata": {},
   "outputs": [],
   "source": [
    "# calculate the tangent of each of the elements of the array\n",
    "np.tan(X)"
   ]
  },
  {
   "cell_type": "code",
   "execution_count": null,
   "metadata": {},
   "outputs": [],
   "source": [
    "# raise every element of X to the power of 3, raise every element of X to the power of 2 and add the values\n",
    "np.power(X, 3) + np.square(X)"
   ]
  },
  {
   "cell_type": "markdown",
   "metadata": {},
   "source": [
    "Now lets try some of these functions on a 2-dimensional array."
   ]
  },
  {
   "cell_type": "code",
   "execution_count": null,
   "metadata": {},
   "outputs": [],
   "source": [
    "Y = np.array([[ 1,  2,  3,  4],\n",
    "              [ 5,  6,  7,  8],\n",
    "              [ 9, 10, 11, 12],\n",
    "              [13, 14, 15, 16]])\n",
    "Y"
   ]
  },
  {
   "cell_type": "code",
   "execution_count": null,
   "metadata": {},
   "outputs": [],
   "source": [
    "# multiply all elements of Y by 2\n",
    "np.multiply(Y, 2)"
   ]
  },
  {
   "cell_type": "code",
   "execution_count": null,
   "metadata": {},
   "outputs": [],
   "source": [
    "# raise every element of Y to the power of 3, raise every element of Y to the power of 2 and add the values\n",
    "np.power(Y, 3) + np.square(Y)"
   ]
  },
  {
   "cell_type": "markdown",
   "metadata": {},
   "source": [
    "### Exercise: find the median of values in X"
   ]
  },
  {
   "cell_type": "code",
   "execution_count": null,
   "metadata": {},
   "outputs": [],
   "source": [
    "# replace ___ with the appropriate code\n",
    "np.___"
   ]
  },
  {
   "cell_type": "markdown",
   "metadata": {},
   "source": [
    "### Exercise:  Create a 10x10 array with random values and find the minimum and maximum values\n",
    "(**hint**: see above how to create random arrays)"
   ]
  },
  {
   "cell_type": "code",
   "execution_count": null,
   "metadata": {},
   "outputs": [],
   "source": [
    "# replace ___ with the appropriate code\n",
    "X = np.___"
   ]
  },
  {
   "cell_type": "markdown",
   "metadata": {},
   "source": [
    "### Exercise: create a random vector of size 30 and find the mean value\n",
    "(**hint**: mean)"
   ]
  },
  {
   "cell_type": "code",
   "execution_count": null,
   "metadata": {},
   "outputs": [],
   "source": []
  },
  {
   "cell_type": "markdown",
   "metadata": {},
   "source": [
    "### Challenge: create an array of size (5,5) with values 1,2,3,4 just below the diagonal and 0's elsewhere\n",
    "(**hint**: np.diag)"
   ]
  },
  {
   "cell_type": "code",
   "execution_count": null,
   "metadata": {},
   "outputs": [],
   "source": []
  },
  {
   "cell_type": "markdown",
   "metadata": {},
   "source": [
    "## 6. Sorting, comparisons and masking\n",
    "TO DO: DIT STUK MOET NOG VERBETERD WORDEN"
   ]
  },
  {
   "cell_type": "code",
   "execution_count": null,
   "metadata": {},
   "outputs": [],
   "source": [
    "# create array of 15 elements between 1 and 10\n",
    "X = np.random.randint(1, 10, 15)\n",
    "X"
   ]
  },
  {
   "cell_type": "code",
   "execution_count": null,
   "metadata": {},
   "outputs": [],
   "source": [
    "# create (3,3) size of array elements from 1 and 5\n",
    "Y = np.random.randint(1,5, (3,3))\n",
    "Y"
   ]
  },
  {
   "cell_type": "code",
   "execution_count": null,
   "metadata": {},
   "outputs": [],
   "source": [
    "# sort elements in array X\n",
    "np.sort(X)"
   ]
  },
  {
   "cell_type": "code",
   "execution_count": null,
   "metadata": {},
   "outputs": [],
   "source": [
    "# sort the rows\n",
    "np.sort(Y, axis=0)"
   ]
  },
  {
   "cell_type": "code",
   "execution_count": null,
   "metadata": {},
   "outputs": [],
   "source": [
    "# sort within the rows\n",
    "np.sort(Y, axis=1)"
   ]
  },
  {
   "cell_type": "code",
   "execution_count": null,
   "metadata": {},
   "outputs": [],
   "source": [
    "# perform a true/false comparison test on every element\n",
    "# == , !=, < , >, >=, <= operations on arrays\n",
    "\n",
    "# is the element greater than 3?\n",
    "X > 3"
   ]
  },
  {
   "cell_type": "code",
   "execution_count": null,
   "metadata": {},
   "outputs": [],
   "source": [
    "# use masking feature to get the values of comparisons\n",
    "x[x>3]"
   ]
  },
  {
   "cell_type": "code",
   "execution_count": null,
   "metadata": {},
   "outputs": [],
   "source": [
    "# more complex masking with multiple conditions\n",
    "x[(x <= 3) & (x > 1)]"
   ]
  }
 ],
 "metadata": {
  "kernelspec": {
   "display_name": "Python 3",
   "language": "python",
   "name": "python3"
  },
  "language_info": {
   "codemirror_mode": {
    "name": "ipython",
    "version": 3
   },
   "file_extension": ".py",
   "mimetype": "text/x-python",
   "name": "python",
   "nbconvert_exporter": "python",
   "pygments_lexer": "ipython3",
   "version": "3.7.3"
  }
 },
 "nbformat": 4,
 "nbformat_minor": 2
}
