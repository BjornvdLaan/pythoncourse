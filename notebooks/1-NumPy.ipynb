{
 "cells": [
  {
   "cell_type": "markdown",
   "metadata": {},
   "source": [
    "# Python beginners course - Level 1 - NumPy\n",
    "(inspired by work by Numan Yilmaz and exercises by Nicolas P. Rougier)\n",
    "\n",
    "This tutorial consists of the following parts:\n",
    "\n",
    " - What is NumPy?\n",
    " - How to create NumPy arrays\n",
    " - Indexing, Fancy Indexing\n",
    " - Slicing\n",
    " - Universal Functions (Ufuncs)\n",
    " - Broadcasting\n",
    " - Masking, Sorting and Comparison"
   ]
  },
  {
   "cell_type": "markdown",
   "metadata": {},
   "source": [
    "## 1. What is NumPy?\n",
    "\n",
    "NumPy can be seen as the foundation of mathematical calculations in Python. It provides a user-friendly way for the users to represent numerical data as lists or matrices objects and do calculations on these objects. For example, let's say you have a list of numbers ```[1, 2, 3]``` and want to calculate the mean of the list, Numpy provides a simple syntax to do so. \n",
    "\n",
    "Because it's ease of use and high performance, NumPy has become the basis for virtually every data science package that exists. In this notebook, we will demonstrate some of the most important functionality that NumPy has to offer, and provide you with some excercises to help you learn use it. The exercises are designed such that they are similar to the examples provided. In the case that you are really lost or want to check your answer: you can find your answers [here](https://github.com/rougier/numpy-100/blob/master/100_Numpy_exercises.md).\n",
    "\n",
    "Before we get started, let's check the version of NumPy and Python."
   ]
  },
  {
   "cell_type": "code",
   "execution_count": 2,
   "metadata": {},
   "outputs": [
    {
     "name": "stdout",
     "output_type": "stream",
     "text": [
      "NumPy version: 1.16.2\n",
      "Python version 3.7.3 (default, Mar 27 2019, 17:13:21) [MSC v.1915 64 bit (AMD64)]\n"
     ]
    }
   ],
   "source": [
    "# import numpy\n",
    "import numpy as np\n",
    "\n",
    "# sys was imported to check the python version\n",
    "import sys \n",
    "\n",
    "# check the version of python and numpy\n",
    "print('NumPy version:', np.__version__)\n",
    "print('Python version',sys.version)"
   ]
  },
  {
   "cell_type": "markdown",
   "metadata": {},
   "source": [
    "## 2. How to create NumPy arrays\n",
    "One of the most basic objects that NumPy uses is called a ```NumPy array```. You can think of a NumPy array as a ordered list of numbers. NumPy arrays can be used to represent a lot of data.\n",
    "\n",
    "For example, you can use NumPy arrays to represent:\n",
    "- the height of 10 family members\n",
    "- the temperature in the last month\n",
    "- the EUR-USD Exchange rates of the past 20 years\n",
    "- the first 5 million decimals of $\\pi$\n",
    "\n",
    "There are many ways to create NumPy arrays. We will take a look at a few of them here."
   ]
  },
  {
   "cell_type": "code",
   "execution_count": 3,
   "metadata": {},
   "outputs": [
    {
     "data": {
      "text/plain": [
       "array([1, 2, 3])"
      ]
     },
     "execution_count": 3,
     "metadata": {},
     "output_type": "execute_result"
    }
   ],
   "source": [
    "# Creates a numpy array where we specify the values\n",
    "np.array([1, 2, 3])"
   ]
  },
  {
   "cell_type": "code",
   "execution_count": 5,
   "metadata": {},
   "outputs": [
    {
     "data": {
      "text/plain": [
       "array([0., 0., 0.])"
      ]
     },
     "execution_count": 5,
     "metadata": {},
     "output_type": "execute_result"
    }
   ],
   "source": [
    "# Creates a numpy array of specified length (3) where all values are 0\n",
    "np.zeros(3)"
   ]
  },
  {
   "cell_type": "code",
   "execution_count": 6,
   "metadata": {},
   "outputs": [
    {
     "data": {
      "text/plain": [
       "array([1., 1., 1.])"
      ]
     },
     "execution_count": 6,
     "metadata": {},
     "output_type": "execute_result"
    }
   ],
   "source": [
    "# Creates a numpy array of specified length (3) where all values are 1\n",
    "np.ones(3)"
   ]
  },
  {
   "cell_type": "code",
   "execution_count": 15,
   "metadata": {},
   "outputs": [
    {
     "data": {
      "text/plain": [
       "array([8, 2, 6])"
      ]
     },
     "execution_count": 15,
     "metadata": {},
     "output_type": "execute_result"
    }
   ],
   "source": [
    "# Creates a numpy array of specified length (3) where all values are random integers between 1 and 10\n",
    "np.random.randint(1, 10, 3)"
   ]
  },
  {
   "cell_type": "markdown",
   "metadata": {},
   "source": [
    "### Exercise:\n",
    "Run the cell above a couple of times. Do you ever see 10 appear? Adjust the code above such that 10 can also appear."
   ]
  },
  {
   "cell_type": "code",
   "execution_count": 6,
   "metadata": {},
   "outputs": [
    {
     "data": {
      "text/plain": [
       "array([ 0. ,  2.5,  5. ,  7.5, 10. ])"
      ]
     },
     "execution_count": 6,
     "metadata": {},
     "output_type": "execute_result"
    }
   ],
   "source": [
    "# Creates a numpy array of specified length (5) where all values are evenly spaced between 0 and 10\n",
    "np.linspace(0, 10, 5)"
   ]
  },
  {
   "cell_type": "markdown",
   "metadata": {},
   "source": [
    "All of the NumPy arrays created above are 1-dimensional. However, most of the data we  use on a day-to-day basis is 2-dimensional; for example tabular data. Luckily, NumPy is also able to handle 2-dimensional data in the form of 2-dimensional NumPy arrays."
   ]
  },
  {
   "cell_type": "code",
   "execution_count": 17,
   "metadata": {},
   "outputs": [
    {
     "data": {
      "text/plain": [
       "array([[ 1,  2,  3],\n",
       "       [ 4,  5,  6],\n",
       "       [ 7,  8,  9],\n",
       "       [10, 11, 12]])"
      ]
     },
     "execution_count": 17,
     "metadata": {},
     "output_type": "execute_result"
    }
   ],
   "source": [
    "# Creates a 2-D numpy array with 3 columns and 4 rows\n",
    "np.array([[1, 2, 3],\n",
    "          [4, 5, 6],\n",
    "          [7, 8, 9],\n",
    "          [10,11,12]])"
   ]
  },
  {
   "cell_type": "code",
   "execution_count": 19,
   "metadata": {},
   "outputs": [
    {
     "data": {
      "text/plain": [
       "array([[0.62439808, 0.46237779, 0.22109322, 0.67145785, 0.08796029],\n",
       "       [0.95489768, 0.68204725, 0.37025698, 0.09148251, 0.27046809],\n",
       "       [0.57078145, 0.86034435, 0.29289796, 0.14796683, 0.63082574]])"
      ]
     },
     "execution_count": 19,
     "metadata": {},
     "output_type": "execute_result"
    }
   ],
   "source": [
    "# Creates a 2-D numpy array with 3 rows and 5 rows where the values are random numbers between 0 and 1\n",
    "np.random.random((3,5))"
   ]
  },
  {
   "cell_type": "markdown",
   "metadata": {},
   "source": [
    "### Exercise: Create an array of zeroes of size 10\n",
    "(**hint**: np.zeros)"
   ]
  },
  {
   "cell_type": "code",
   "execution_count": null,
   "metadata": {},
   "outputs": [],
   "source": []
  },
  {
   "cell_type": "markdown",
   "metadata": {},
   "source": [
    "## 3. Slightly more advanced tricks\n",
    "We now have seen how to create basic 1- and 2-dimensional NumPy arrays. However, we have not yet done anything with the data. Let's see what we can do with NumPy arrays once we have created them.\n",
    "\n",
    "Previously, we just created NumPy arrays, without actually storing them into the memory of the computer. Let's now again create a 1-dimensional array and a 2-dimensional array, but this time we will store them in the computer memory so that we can actually manipulate the data.\n",
    "\n",
    "We will store the 1-dimensional array under the name ```a``` and store the 2-dimensional array under the name ```b```."
   ]
  },
  {
   "cell_type": "code",
   "execution_count": 30,
   "metadata": {
    "scrolled": true
   },
   "outputs": [],
   "source": [
    "# Creates a 1-D array with predefined values and stores it under the name 'a'\n",
    "a = np.array([1,2,3])\n",
    "\n",
    "# Creates a 2-D array of size (3,3) with random integers between 0 and 10 and stores it under the name 'b'\n",
    "b = np.random.randint(0,10, (3,3))\n",
    "\n",
    "# In order to see the data, we can print it to the screen:\n",
    "print(\"array a:\")\n",
    "print(a)\n",
    "\n",
    "print(\"array b:\")\n",
    "print(b)"
   ]
  },
  {
   "cell_type": "markdown",
   "metadata": {},
   "source": [
    "The variables ```a``` and ```b``` are now stored in the computers memory. Now lets do some modifications to our variables. "
   ]
  },
  {
   "cell_type": "code",
   "execution_count": 10,
   "metadata": {},
   "outputs": [
    {
     "data": {
      "text/plain": [
       "array([1, 2, 3, 4])"
      ]
     },
     "execution_count": 10,
     "metadata": {},
     "output_type": "execute_result"
    }
   ],
   "source": [
    "# adding values to an existing array\n",
    "a = np.append(a, 4)\n",
    "a"
   ]
  },
  {
   "cell_type": "code",
   "execution_count": 11,
   "metadata": {},
   "outputs": [
    {
     "name": "stdout",
     "output_type": "stream",
     "text": [
      "Shape of a: (4,)\n",
      "Shape of b: (3, 3)\n",
      "Dimension of a: 1\n",
      "Dimension of b: 2\n"
     ]
    }
   ],
   "source": [
    "# print the shape and dimension of arrays\n",
    "print(\"Shape of a:\", np.shape(a))\n",
    "print(\"Shape of b:\", np.shape(b))\n",
    "\n",
    "print('Dimension of a:', np.ndim(a))\n",
    "print('Dimension of b:', np.ndim(b))"
   ]
  },
  {
   "cell_type": "code",
   "execution_count": 12,
   "metadata": {},
   "outputs": [
    {
     "name": "stdout",
     "output_type": "stream",
     "text": [
      "Number of elements in a: 4\n",
      "Number of elements in b: 9\n"
     ]
    }
   ],
   "source": [
    "#  number of elements in the arrays\n",
    "print('Number of elements in a:', np.size(a))\n",
    "print('Number of elements in b:', np.size(b))"
   ]
  },
  {
   "cell_type": "markdown",
   "metadata": {},
   "source": [
    "### Exercise:  Create a vector with values ranging from 10 to 49\n",
    "(**hint**: np.arange)"
   ]
  },
  {
   "cell_type": "code",
   "execution_count": null,
   "metadata": {},
   "outputs": [],
   "source": []
  },
  {
   "cell_type": "markdown",
   "metadata": {},
   "source": [
    "### Exercise:  Create a 10x10 array with random values and find the minimum and maximum values\n",
    "(**hint**: min, max)"
   ]
  },
  {
   "cell_type": "code",
   "execution_count": null,
   "metadata": {},
   "outputs": [],
   "source": []
  },
  {
   "cell_type": "markdown",
   "metadata": {},
   "source": [
    "## 4. Indexing\n",
    "\n",
    "Contents of a NumPy array object can be accessed and modified through indexing. Three types of indexing methods are available − field access, basic slicing and advanced indexing. Here we will explain the first two methods.\n",
    "\n",
    "##### Tip: notice that numbering of items in an array starts at zero. "
   ]
  },
  {
   "cell_type": "code",
   "execution_count": 15,
   "metadata": {},
   "outputs": [
    {
     "data": {
      "text/plain": [
       "array([ 1,  2,  3,  4,  5,  6,  7,  8,  9, 10])"
      ]
     },
     "execution_count": 15,
     "metadata": {},
     "output_type": "execute_result"
    }
   ],
   "source": [
    "# create an array integer from 1 to 10\n",
    "X = np.arange(1, 11, dtype=int)\n",
    "X"
   ]
  },
  {
   "cell_type": "code",
   "execution_count": 16,
   "metadata": {},
   "outputs": [
    {
     "name": "stdout",
     "output_type": "stream",
     "text": [
      "7\n"
     ]
    }
   ],
   "source": [
    "## FIELD ACCESS\n",
    "## get a specific item in the array by specifying its index\n",
    "\n",
    "# get the first item in the array\n",
    "first = X[0]\n",
    "# get the fourth item in the array\n",
    "fourth = X[3]"
   ]
  },
  {
   "cell_type": "code",
   "execution_count": null,
   "metadata": {},
   "outputs": [],
   "source": [
    "# EXERCISE: get the seventh item in the array by replacing ___\n",
    "seventh = X[____]\n",
    "print(seventh)"
   ]
  },
  {
   "cell_type": "code",
   "execution_count": 19,
   "metadata": {},
   "outputs": [
    {
     "data": {
      "text/plain": [
       "array([3, 4, 5])"
      ]
     },
     "execution_count": 19,
     "metadata": {},
     "output_type": "execute_result"
    }
   ],
   "source": [
    "## BASIC SLICING\n",
    "## get a slice of the array by defining the start and end index\n",
    "\n",
    "# get the third until fifth item\n",
    "X[2:5]"
   ]
  },
  {
   "cell_type": "code",
   "execution_count": 37,
   "metadata": {},
   "outputs": [
    {
     "data": {
      "text/plain": [
       "array([[ 1,  2,  3,  4],\n",
       "       [ 5,  6,  7,  8],\n",
       "       [ 9, 10, 11, 12],\n",
       "       [13, 14, 15, 16]])"
      ]
     },
     "execution_count": 37,
     "metadata": {},
     "output_type": "execute_result"
    }
   ],
   "source": [
    "## Now lets try for a 2-dimensional array\n",
    "\n",
    "# first, we create the array\n",
    "Y= np.arange(1,17).reshape(4,4)\n",
    "Y"
   ]
  },
  {
   "cell_type": "code",
   "execution_count": 39,
   "metadata": {},
   "outputs": [
    {
     "data": {
      "text/plain": [
       "array([[1, 2, 3, 4],\n",
       "       [5, 6, 7, 8]])"
      ]
     },
     "execution_count": 39,
     "metadata": {},
     "output_type": "execute_result"
    }
   ],
   "source": [
    "# use slicing to get the first two rows\n",
    "Y[0:2]"
   ]
  },
  {
   "cell_type": "code",
   "execution_count": 53,
   "metadata": {},
   "outputs": [
    {
     "data": {
      "text/plain": [
       "array([[3, 4],\n",
       "       [7, 8]])"
      ]
     },
     "execution_count": 53,
     "metadata": {},
     "output_type": "execute_result"
    }
   ],
   "source": [
    "# use slicing on both rows and columns to get only the last two elements of the first two rows\n",
    "Y[0:2, 2:4]"
   ]
  },
  {
   "cell_type": "markdown",
   "metadata": {},
   "source": [
    "### Exercise:  Create a null vector of size 10 but the fifth value which is 1\n",
    "(**hint**: np.zeros and array\\[4\\])"
   ]
  },
  {
   "cell_type": "code",
   "execution_count": null,
   "metadata": {},
   "outputs": [],
   "source": []
  },
  {
   "cell_type": "markdown",
   "metadata": {},
   "source": [
    "### Exercise: use slicing to get the first two elements of the last two rows"
   ]
  },
  {
   "cell_type": "code",
   "execution_count": null,
   "metadata": {},
   "outputs": [],
   "source": [
    "Y[___, ____]"
   ]
  },
  {
   "cell_type": "markdown",
   "metadata": {},
   "source": [
    "## 5. Universal Functions(Ufuncs)\n",
    "\n",
    "##### tip: press TAB after np. to see list of available ufuncs. np.{TAB}"
   ]
  },
  {
   "cell_type": "markdown",
   "metadata": {},
   "source": [
    "Allow fast computation in NumPy arrays."
   ]
  },
  {
   "cell_type": "code",
   "execution_count": 3,
   "metadata": {},
   "outputs": [
    {
     "data": {
      "text/plain": [
       "array([ 1,  2,  3,  4,  5,  6,  7,  8,  9, 10])"
      ]
     },
     "execution_count": 3,
     "metadata": {},
     "output_type": "execute_result"
    }
   ],
   "source": [
    "# create an array integer from 1 to 10\n",
    "X = np.arange(1, 11, dtype=int)\n",
    "X"
   ]
  },
  {
   "cell_type": "code",
   "execution_count": 8,
   "metadata": {},
   "outputs": [
    {
     "data": {
      "text/plain": [
       "10"
      ]
     },
     "execution_count": 8,
     "metadata": {},
     "output_type": "execute_result"
    }
   ],
   "source": [
    "# find the maximum element of X\n",
    "np.max(X)"
   ]
  },
  {
   "cell_type": "code",
   "execution_count": null,
   "metadata": {},
   "outputs": [],
   "source": [
    "# EXERCISE: find the minimum element\n",
    "np.__(X)"
   ]
  },
  {
   "cell_type": "code",
   "execution_count": 9,
   "metadata": {},
   "outputs": [
    {
     "data": {
      "text/plain": [
       "5.5"
      ]
     },
     "execution_count": 9,
     "metadata": {},
     "output_type": "execute_result"
    }
   ],
   "source": [
    "# find the mean of values in the X\n",
    "np.mean(X)"
   ]
  },
  {
   "cell_type": "code",
   "execution_count": 11,
   "metadata": {},
   "outputs": [
    {
     "data": {
      "text/plain": [
       "array([    1,    16,    81,   256,   625,  1296,  2401,  4096,  6561,\n",
       "       10000], dtype=int32)"
      ]
     },
     "execution_count": 11,
     "metadata": {},
     "output_type": "execute_result"
    }
   ],
   "source": [
    "# get the 4th power of each value\n",
    "np.power(X, 4)"
   ]
  },
  {
   "cell_type": "code",
   "execution_count": 12,
   "metadata": {},
   "outputs": [
    {
     "data": {
      "text/plain": [
       "array([  1,   4,   9,  16,  25,  36,  49,  64,  81, 100], dtype=int32)"
      ]
     },
     "execution_count": 12,
     "metadata": {},
     "output_type": "execute_result"
    }
   ],
   "source": [
    "# get each value to the power 2\n",
    "np.square(X)"
   ]
  },
  {
   "cell_type": "code",
   "execution_count": 13,
   "metadata": {},
   "outputs": [
    {
     "data": {
      "text/plain": [
       "array([1.        , 1.41421356, 1.73205081, 2.        , 2.23606798,\n",
       "       2.44948974, 2.64575131, 2.82842712, 3.        , 3.16227766])"
      ]
     },
     "execution_count": 13,
     "metadata": {},
     "output_type": "execute_result"
    }
   ],
   "source": [
    "# get the square root of each value\n",
    "np.sqrt(X)"
   ]
  },
  {
   "cell_type": "code",
   "execution_count": 14,
   "metadata": {},
   "outputs": [
    {
     "name": "stdout",
     "output_type": "stream",
     "text": [
      "[ 0.84147098  0.90929743  0.14112001 -0.7568025  -0.95892427 -0.2794155\n",
      "  0.6569866   0.98935825  0.41211849 -0.54402111]\n",
      "[ 1.55740772 -2.18503986 -0.14254654  1.15782128 -3.38051501 -0.29100619\n",
      "  0.87144798 -6.79971146 -0.45231566  0.64836083]\n"
     ]
    }
   ],
   "source": [
    "# trigonometric functions \n",
    "print(np.sin(X))\n",
    "print(np.tan(X))"
   ]
  },
  {
   "cell_type": "code",
   "execution_count": 45,
   "metadata": {},
   "outputs": [
    {
     "data": {
      "text/plain": [
       "array([   2,   12,   36,   80,  150,  252,  392,  576,  810, 1100],\n",
       "      dtype=int32)"
      ]
     },
     "execution_count": 45,
     "metadata": {},
     "output_type": "execute_result"
    }
   ],
   "source": [
    "# calculate more complex functions: item^3 + item^2\n",
    "np.power(X, 3) + np.square(X)"
   ]
  },
  {
   "cell_type": "markdown",
   "metadata": {},
   "source": [
    "### Now lets try for a 2-dimensional array"
   ]
  },
  {
   "cell_type": "code",
   "execution_count": 55,
   "metadata": {},
   "outputs": [
    {
     "data": {
      "text/plain": [
       "array([[ 1,  2,  3,  4],\n",
       "       [ 5,  6,  7,  8],\n",
       "       [ 9, 10, 11, 12],\n",
       "       [13, 14, 15, 16]])"
      ]
     },
     "execution_count": 55,
     "metadata": {},
     "output_type": "execute_result"
    }
   ],
   "source": [
    "Y= np.arange(1,17).reshape(4,4)\n",
    "Y"
   ]
  },
  {
   "cell_type": "code",
   "execution_count": 56,
   "metadata": {},
   "outputs": [
    {
     "data": {
      "text/plain": [
       "array([[ 2,  4,  6,  8],\n",
       "       [10, 12, 14, 16],\n",
       "       [18, 20, 22, 24],\n",
       "       [26, 28, 30, 32]])"
      ]
     },
     "execution_count": 56,
     "metadata": {},
     "output_type": "execute_result"
    }
   ],
   "source": [
    "# multiply all elements by 2\n",
    "np.multiply(Y, 2)"
   ]
  },
  {
   "cell_type": "code",
   "execution_count": 48,
   "metadata": {},
   "outputs": [
    {
     "data": {
      "text/plain": [
       "array([[   2,   12,   36,   80],\n",
       "       [ 150,  252,  392,  576],\n",
       "       [ 810, 1100, 1452, 1872],\n",
       "       [2366, 2940, 3600, 4352]], dtype=int32)"
      ]
     },
     "execution_count": 48,
     "metadata": {},
     "output_type": "execute_result"
    }
   ],
   "source": [
    "# calculate more complex functions: item^3 + item^2\n",
    "np.power(Y, 3) + np.square(Y)"
   ]
  },
  {
   "cell_type": "markdown",
   "metadata": {},
   "source": [
    "### Exercise: find the median of values in X\n"
   ]
  },
  {
   "cell_type": "code",
   "execution_count": null,
   "metadata": {},
   "outputs": [],
   "source": [
    "np.__(X)"
   ]
  },
  {
   "cell_type": "markdown",
   "metadata": {},
   "source": [
    "### Exercise: create a random vector of size 30 and find the mean value\n",
    "(**hint**: mean)"
   ]
  },
  {
   "cell_type": "code",
   "execution_count": null,
   "metadata": {},
   "outputs": [],
   "source": []
  },
  {
   "cell_type": "markdown",
   "metadata": {},
   "source": [
    "### Exercise: create a 5x5 matrix with values 1,2,3,4 just below the diagonal\n",
    "(**hint**: np.diag)"
   ]
  },
  {
   "cell_type": "code",
   "execution_count": null,
   "metadata": {},
   "outputs": [],
   "source": []
  },
  {
   "cell_type": "markdown",
   "metadata": {},
   "source": [
    "## 6. Sorting, Comparison and Masking"
   ]
  },
  {
   "cell_type": "code",
   "execution_count": 60,
   "metadata": {},
   "outputs": [
    {
     "data": {
      "text/plain": [
       "array([4, 9, 2, 4, 9, 7, 4, 9, 8, 1, 6, 6, 5, 7, 6])"
      ]
     },
     "execution_count": 60,
     "metadata": {},
     "output_type": "execute_result"
    }
   ],
   "source": [
    "# create array of 15 elements between 1 and 10\n",
    "X = np.random.randint(1, 10, 15)\n",
    "X"
   ]
  },
  {
   "cell_type": "code",
   "execution_count": 63,
   "metadata": {},
   "outputs": [
    {
     "data": {
      "text/plain": [
       "array([[4, 4, 4],\n",
       "       [2, 3, 3],\n",
       "       [1, 2, 1]])"
      ]
     },
     "execution_count": 63,
     "metadata": {},
     "output_type": "execute_result"
    }
   ],
   "source": [
    "# create (3,3) size of array elements from 1 and 5\n",
    "Y = np.random.randint(1,5, (3,3))\n",
    "Y"
   ]
  },
  {
   "cell_type": "code",
   "execution_count": 61,
   "metadata": {},
   "outputs": [
    {
     "data": {
      "text/plain": [
       "array([1, 2, 4, 4, 4, 5, 6, 6, 6, 7, 7, 8, 9, 9, 9])"
      ]
     },
     "execution_count": 61,
     "metadata": {},
     "output_type": "execute_result"
    }
   ],
   "source": [
    "# sort elements in array X\n",
    "np.sort(X)"
   ]
  },
  {
   "cell_type": "code",
   "execution_count": 64,
   "metadata": {},
   "outputs": [
    {
     "data": {
      "text/plain": [
       "array([[1, 2, 1],\n",
       "       [2, 3, 3],\n",
       "       [4, 4, 4]])"
      ]
     },
     "execution_count": 64,
     "metadata": {},
     "output_type": "execute_result"
    }
   ],
   "source": [
    "# sort the rows\n",
    "np.sort(Y, axis=0)"
   ]
  },
  {
   "cell_type": "code",
   "execution_count": 67,
   "metadata": {},
   "outputs": [
    {
     "data": {
      "text/plain": [
       "array([[4, 4, 4],\n",
       "       [2, 3, 3],\n",
       "       [1, 1, 2]])"
      ]
     },
     "execution_count": 67,
     "metadata": {},
     "output_type": "execute_result"
    }
   ],
   "source": [
    "# sort within the rows\n",
    "np.sort(Y, axis=1)"
   ]
  },
  {
   "cell_type": "code",
   "execution_count": 68,
   "metadata": {},
   "outputs": [
    {
     "data": {
      "text/plain": [
       "array([ True,  True,  True, False,  True,  True, False,  True, False,\n",
       "        True, False,  True, False, False,  True])"
      ]
     },
     "execution_count": 68,
     "metadata": {},
     "output_type": "execute_result"
    }
   ],
   "source": [
    "# perform a true/false comparison test on every element\n",
    "# == , !=, < , >, >=, <= operations on arrays\n",
    "\n",
    "# is the element greater than 3?\n",
    "x > 3"
   ]
  },
  {
   "cell_type": "code",
   "execution_count": 50,
   "metadata": {},
   "outputs": [
    {
     "data": {
      "text/plain": [
       "array([4, 4])"
      ]
     },
     "execution_count": 50,
     "metadata": {},
     "output_type": "execute_result"
    }
   ],
   "source": [
    "# use masking feature to get the values of comparisons\n",
    "x[x>3]"
   ]
  },
  {
   "cell_type": "code",
   "execution_count": 69,
   "metadata": {},
   "outputs": [
    {
     "data": {
      "text/plain": [
       "array([2, 3, 2, 3])"
      ]
     },
     "execution_count": 69,
     "metadata": {},
     "output_type": "execute_result"
    }
   ],
   "source": [
    "# more complex masking with multiple conditions\n",
    "x[(x <= 3) & (x > 1)]"
   ]
  },
  {
   "cell_type": "markdown",
   "metadata": {},
   "source": [
    "### Exercise: given a 1D array, negate all elements which are lower than 28 and higher than 37."
   ]
  },
  {
   "cell_type": "code",
   "execution_count": null,
   "metadata": {},
   "outputs": [],
   "source": [
    "y = np.arange(60)\n",
    "y[___]"
   ]
  }
 ],
 "metadata": {
  "kernelspec": {
   "display_name": "Python 3",
   "language": "python",
   "name": "python3"
  },
  "language_info": {
   "codemirror_mode": {
    "name": "ipython",
    "version": 3
   },
   "file_extension": ".py",
   "mimetype": "text/x-python",
   "name": "python",
   "nbconvert_exporter": "python",
   "pygments_lexer": "ipython3",
   "version": "3.7.3"
  }
 },
 "nbformat": 4,
 "nbformat_minor": 2
}
